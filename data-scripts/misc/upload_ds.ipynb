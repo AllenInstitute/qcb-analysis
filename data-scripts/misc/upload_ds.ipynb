{
 "cells": [
  {
   "cell_type": "code",
   "execution_count": 1,
   "metadata": {},
   "outputs": [],
   "source": [
    "import os\n",
    "import glob\n",
    "import pickle\n",
    "import numpy as np\n",
    "import pandas as pd\n",
    "import datasetdatabase as dsdb\n",
    "\n",
    "os.environ[\"DSDB_PROCESS_LIMIT\"] = \"16\""
   ]
  },
  {
   "cell_type": "markdown",
   "metadata": {},
   "source": [
    "# MEM, DNA and FOV Datasets"
   ]
  },
  {
   "cell_type": "markdown",
   "metadata": {},
   "source": [
    "Connecting to dsdb"
   ]
  },
  {
   "cell_type": "code",
   "execution_count": 2,
   "metadata": {},
   "outputs": [],
   "source": [
    "prod = dsdb.DatasetDatabase(config=\"/allen/aics/assay-dev/Analysis/QCB_database/prod_config.json\")"
   ]
  },
  {
   "cell_type": "markdown",
   "metadata": {},
   "source": [
    "Loading metadata"
   ]
  },
  {
   "cell_type": "code",
   "execution_count": 3,
   "metadata": {},
   "outputs": [
    {
     "data": {
      "text/html": [
       "<div>\n",
       "<style scoped>\n",
       "    .dataframe tbody tr th:only-of-type {\n",
       "        vertical-align: middle;\n",
       "    }\n",
       "\n",
       "    .dataframe tbody tr th {\n",
       "        vertical-align: top;\n",
       "    }\n",
       "\n",
       "    .dataframe thead th {\n",
       "        text-align: right;\n",
       "    }\n",
       "</style>\n",
       "<table border=\"1\" class=\"dataframe\">\n",
       "  <thead>\n",
       "    <tr style=\"text-align: right;\">\n",
       "      <th></th>\n",
       "      <th>cell_id</th>\n",
       "      <th>cell_ver</th>\n",
       "      <th>czi_filename</th>\n",
       "      <th>drug_label</th>\n",
       "      <th>idx_in_stack</th>\n",
       "      <th>roi</th>\n",
       "      <th>str_ver</th>\n",
       "      <th>structure_name</th>\n",
       "    </tr>\n",
       "  </thead>\n",
       "  <tbody>\n",
       "    <tr>\n",
       "      <th>0</th>\n",
       "      <td>0ade9e16-db16-420a-9ccb-8cad3b32ee04</td>\n",
       "      <td>0.1.0</td>\n",
       "      <td>3500001171_100X_20170811_1-Scene-1-P7-D05.czi</td>\n",
       "      <td>Paclitaxol</td>\n",
       "      <td>1</td>\n",
       "      <td>[35, 141, 113, 380, 264, 469]</td>\n",
       "      <td>0.1.0</td>\n",
       "      <td>tubulin</td>\n",
       "    </tr>\n",
       "    <tr>\n",
       "      <th>1</th>\n",
       "      <td>ca1f5d66-da95-4208-bd89-65c6c614a9f1</td>\n",
       "      <td>0.1.0</td>\n",
       "      <td>3500001171_100X_20170811_1-Scene-1-P7-D05.czi</td>\n",
       "      <td>Paclitaxol</td>\n",
       "      <td>2</td>\n",
       "      <td>[35, 139, 183, 427, 327, 608]</td>\n",
       "      <td>0.1.0</td>\n",
       "      <td>tubulin</td>\n",
       "    </tr>\n",
       "    <tr>\n",
       "      <th>2</th>\n",
       "      <td>662de948-69c0-4b93-92f8-f3bcc7e38655</td>\n",
       "      <td>0.1.0</td>\n",
       "      <td>3500001171_100X_20170811_1-Scene-1-P7-D05.czi</td>\n",
       "      <td>Paclitaxol</td>\n",
       "      <td>3</td>\n",
       "      <td>[35, 139, 225, 458, 23, 406]</td>\n",
       "      <td>0.1.0</td>\n",
       "      <td>tubulin</td>\n",
       "    </tr>\n",
       "    <tr>\n",
       "      <th>3</th>\n",
       "      <td>7806500f-6df9-4b9f-8b23-fde6fd09d40e</td>\n",
       "      <td>0.1.0</td>\n",
       "      <td>3500001171_100X_20170811_1-Scene-1-P7-D05.czi</td>\n",
       "      <td>Paclitaxol</td>\n",
       "      <td>4</td>\n",
       "      <td>[35, 144, 403, 529, 156, 439]</td>\n",
       "      <td>0.1.0</td>\n",
       "      <td>tubulin</td>\n",
       "    </tr>\n",
       "    <tr>\n",
       "      <th>4</th>\n",
       "      <td>17fcb999-72a5-425d-b485-b02edb16651c</td>\n",
       "      <td>0.1.0</td>\n",
       "      <td>3500001171_100X_20170811_1-Scene-1-P7-D05.czi</td>\n",
       "      <td>Paclitaxol</td>\n",
       "      <td>9</td>\n",
       "      <td>[35, 147, 293, 450, 168, 397]</td>\n",
       "      <td>0.1.0</td>\n",
       "      <td>tubulin</td>\n",
       "    </tr>\n",
       "  </tbody>\n",
       "</table>\n",
       "</div>"
      ],
      "text/plain": [
       "                                cell_id cell_ver  \\\n",
       "0  0ade9e16-db16-420a-9ccb-8cad3b32ee04    0.1.0   \n",
       "1  ca1f5d66-da95-4208-bd89-65c6c614a9f1    0.1.0   \n",
       "2  662de948-69c0-4b93-92f8-f3bcc7e38655    0.1.0   \n",
       "3  7806500f-6df9-4b9f-8b23-fde6fd09d40e    0.1.0   \n",
       "4  17fcb999-72a5-425d-b485-b02edb16651c    0.1.0   \n",
       "\n",
       "                                    czi_filename  drug_label  idx_in_stack  \\\n",
       "0  3500001171_100X_20170811_1-Scene-1-P7-D05.czi  Paclitaxol             1   \n",
       "1  3500001171_100X_20170811_1-Scene-1-P7-D05.czi  Paclitaxol             2   \n",
       "2  3500001171_100X_20170811_1-Scene-1-P7-D05.czi  Paclitaxol             3   \n",
       "3  3500001171_100X_20170811_1-Scene-1-P7-D05.czi  Paclitaxol             4   \n",
       "4  3500001171_100X_20170811_1-Scene-1-P7-D05.czi  Paclitaxol             9   \n",
       "\n",
       "                             roi str_ver structure_name  \n",
       "0  [35, 141, 113, 380, 264, 469]   0.1.0        tubulin  \n",
       "1  [35, 139, 183, 427, 327, 608]   0.1.0        tubulin  \n",
       "2   [35, 139, 225, 458, 23, 406]   0.1.0        tubulin  \n",
       "3  [35, 144, 403, 529, 156, 439]   0.1.0        tubulin  \n",
       "4  [35, 147, 293, 450, 168, 397]   0.1.0        tubulin  "
      ]
     },
     "execution_count": 3,
     "metadata": {},
     "output_type": "execute_result"
    }
   ],
   "source": [
    "with open(\"../../data-raw/QCB_drug_cell_meta.pkl\", \"rb\") as fp:\n",
    "    df_meta = pickle.load(fp)\n",
    "\n",
    "df_meta.head()"
   ]
  },
  {
   "cell_type": "markdown",
   "metadata": {},
   "source": [
    "Upload exiting local pkl files"
   ]
  },
  {
   "cell_type": "code",
   "execution_count": 4,
   "metadata": {},
   "outputs": [],
   "source": [
    "DSToIngest = [\n",
    "    {\"file\": \"QCB_DRUG_MEM_feature.pkl\",\n",
    "     \"name\": \"QCB_DRUG_MEM_feature\",\n",
    "     \"description\": \"Cell membrane features extracted from QCB DRUG data\",\n",
    "     \"na_allowed\": True,\n",
    "     \"meta_id\": \"cell_id\"},\n",
    "    {\"file\": \"QCB_DRUG_DNA_feature.pkl\",\n",
    "     \"name\": \"QCB_DRUG_DNA_feature\",\n",
    "     \"description\": \"Nucleus features extracted from QCB DRUG data\",\n",
    "     \"na_allowed\": True,\n",
    "     \"meta_id\": \"cell_id\"}]"
   ]
  },
  {
   "cell_type": "markdown",
   "metadata": {},
   "source": [
    "Purge datasets first"
   ]
  },
  {
   "cell_type": "code",
   "execution_count": 5,
   "metadata": {},
   "outputs": [
    {
     "name": "stdout",
     "output_type": "stream",
     "text": [
      "Purging:  QCB_DRUG_MEM_feature.pkl\n",
      "Purging:  QCB_DRUG_DNA_feature.pkl\n"
     ]
    }
   ],
   "source": [
    "for data in DSToIngest:\n",
    "    \n",
    "    print(\"Purging: \",data[\"file\"])\n",
    "    \n",
    "    try:\n",
    "        prod._purge_dataset(name=data[\"name\"])\n",
    "    except: pass"
   ]
  },
  {
   "cell_type": "code",
   "execution_count": 6,
   "metadata": {},
   "outputs": [
    {
     "name": "stdout",
     "output_type": "stream",
     "text": [
      "running: QCB_DRUG_MEM_feature.pkl\n",
      "Storing algorithm parameters.\n",
      "Input dataset already exists in database. 1\n",
      "Tearing down object...\n",
      "[============================================================] 100.0% 1519/1519 ~ 0:0:0 remaining\n",
      "running: QCB_DRUG_DNA_feature.pkl\n",
      "Storing algorithm parameters.\n",
      "Input dataset already exists in database. 1\n",
      "Input dataset already exists in database. 57\n"
     ]
    }
   ],
   "source": [
    "for data in DSToIngest:\n",
    "    \n",
    "    print(\"running:\",data[\"file\"])\n",
    "    \n",
    "    with open(os.path.join(\"../../data-raw/\",data[\"file\"]), \"rb\") as fp:\n",
    "        df = pickle.load(fp)\n",
    "        \n",
    "    if data[\"na_allowed\"] is False:\n",
    "        assert df.isnull().values.any() == False\n",
    "\n",
    "    if data[\"meta_id\"] is not None:\n",
    "        df = pd.concat([df.reset_index(drop=True), df_meta[data[\"meta_id\"]]], axis=1)\n",
    "    \n",
    "    ds = dsdb.Dataset(df, name=data[\"name\"], description=data[\"description\"])\n",
    "    \n",
    "    ds.upload_to(prod)"
   ]
  },
  {
   "cell_type": "markdown",
   "metadata": {},
   "source": [
    "Checking uploaded datasets"
   ]
  },
  {
   "cell_type": "code",
   "execution_count": 36,
   "metadata": {},
   "outputs": [
    {
     "name": "stdout",
     "output_type": "stream",
     "text": [
      "{'info': {'id': 56, 'name': 'QCB_DRUG_MEM_feature', 'description': 'Cell membrane features extracted from QCB DRUG data', 'introspector': 'datasetdatabase.introspect.dataframe.DataFrameIntrospector', 'created': datetime.datetime(2018, 10, 9, 0, 23, 46, 716721)}, 'shape': (1519, 102), 'keys': ['str_1st_axis_length_mean', 'str_1st_axis_x_mean', 'str_1st_axis_y_mean', 'str_1st_axis_z_mean', 'str_1st_eigenvalue_mean', 'str_2nd_axis_length_mean', 'str_2nd_axis_x_mean', 'str_2nd_axis_y_mean', 'str_2nd_axis_z_mean', 'str_2nd_eigenvalue_mean', 'str_3rd_axis_length_mean', 'str_3rd_axis_x_mean', 'str_3rd_axis_y_mean', 'str_3rd_axis_z_mean', 'str_3rd_eigenvalue_mean', 'str_equator_eccentricity_mean', 'str_highest_z_mean', 'str_lowest_z_mean', 'str_meridional_eccentricity_mean', 'str_sphericity_mean', 'str_surface_area_mean', 'str_volume_mean', 'str_x_centroid_mean', 'str_y_centroid_mean', 'str_z_centroid_mean', 'str_1st_axis_length_std', 'str_1st_axis_x_std', 'str_1st_axis_y_std', 'str_1st_axis_z_std', 'str_1st_eigenvalue_std', 'str_2nd_axis_length_std', 'str_2nd_axis_x_std', 'str_2nd_axis_y_std', 'str_2nd_axis_z_std', 'str_2nd_eigenvalue_std', 'str_3rd_axis_length_std', 'str_3rd_axis_x_std', 'str_3rd_axis_y_std', 'str_3rd_axis_z_std', 'str_3rd_eigenvalue_std', 'str_equator_eccentricity_std', 'str_highest_z_std', 'str_lowest_z_std', 'str_meridional_eccentricity_std', 'str_sphericity_std', 'str_surface_area_std', 'str_volume_std', 'str_x_centroid_std', 'str_y_centroid_std', 'str_z_centroid_std', 'str_1st_axis_length_min', 'str_1st_axis_x_min', 'str_1st_axis_y_min', 'str_1st_axis_z_min', 'str_1st_eigenvalue_min', 'str_2nd_axis_length_min', 'str_2nd_axis_x_min', 'str_2nd_axis_y_min', 'str_2nd_axis_z_min', 'str_2nd_eigenvalue_min', 'str_3rd_axis_length_min', 'str_3rd_axis_x_min', 'str_3rd_axis_y_min', 'str_3rd_axis_z_min', 'str_3rd_eigenvalue_min', 'str_equator_eccentricity_min', 'str_highest_z_min', 'str_lowest_z_min', 'str_meridional_eccentricity_min', 'str_sphericity_min', 'str_surface_area_min', 'str_volume_min', 'str_x_centroid_min', 'str_y_centroid_min', 'str_z_centroid_min', 'str_1st_axis_length_max', 'str_1st_axis_x_max', 'str_1st_axis_y_max', 'str_1st_axis_z_max', 'str_1st_eigenvalue_max', 'str_2nd_axis_length_max', 'str_2nd_axis_x_max', 'str_2nd_axis_y_max', 'str_2nd_axis_z_max', 'str_2nd_eigenvalue_max', 'str_3rd_axis_length_max', 'str_3rd_axis_x_max', 'str_3rd_axis_y_max', 'str_3rd_axis_z_max', 'str_3rd_eigenvalue_max', 'str_equator_eccentricity_max', 'str_highest_z_max', 'str_lowest_z_max', 'str_meridional_eccentricity_max', 'str_sphericity_max', 'str_surface_area_max', 'str_volume_max', 'str_x_centroid_max', 'str_y_centroid_max', 'str_z_centroid_max', 'str_number_of_components', 'cell_id'], 'annotations': []}\n",
      "QCB_DRUG_DNA_feature fail\n"
     ]
    }
   ],
   "source": [
    "for data in DSToIngest:\n",
    "    \n",
    "    try:\n",
    "        print(prod.preview(name=data[\"name\"]))\n",
    "    except:\n",
    "        print(data[\"name\"]+\" fail\")\n",
    "        pass"
   ]
  },
  {
   "cell_type": "markdown",
   "metadata": {},
   "source": [
    "# Structures Datasets"
   ]
  },
  {
   "cell_type": "markdown",
   "metadata": {},
   "source": [
    "Uploading existing structures pkl files"
   ]
  },
  {
   "cell_type": "code",
   "execution_count": 11,
   "metadata": {},
   "outputs": [],
   "source": [
    "DSToIngest = [\n",
    "    {\"file\": \"tmp_str_golgi_drug_ds.pkl\",\n",
    "     \"name\": \"QCB_DRUG_ST6GAL_feature\",\n",
    "     \"description\": \"Features extracted from QCB images of ST6GAL-tagged Golgi.\",\n",
    "     \"na_allowed\": True,\n",
    "     \"meta_id\": \"cell_id\"},\n",
    "    {\"file\": \"tmp_str_er_drug_ds.pkl\",\n",
    "     \"name\": \"QCB_DRUG_SEC61B_feature\",\n",
    "     \"description\": \"Features extracted from QCB DRUG images of SEC61B-tagged ER.\",\n",
    "     \"na_allowed\": True,\n",
    "     \"meta_id\": \"cell_id\"},\n",
    "    {\"file\": \"tmp_str_tubulin_drug_ds.pkl\",\n",
    "     \"name\": \"QCB_DRUG_TUBA1B_feature\",\n",
    "     \"description\": \"Features extracted from QCB DRUG images of TUBA1B-tagged microtubules.\",\n",
    "     \"na_allowed\": True,\n",
    "     \"meta_id\": \"cell_id\"}]"
   ]
  },
  {
   "cell_type": "code",
   "execution_count": 12,
   "metadata": {},
   "outputs": [
    {
     "name": "stdout",
     "output_type": "stream",
     "text": [
      "running: tmp_str_golgi_drug_ds.pkl\n",
      "Storing algorithm parameters.\n",
      "Input dataset already exists in database. 1\n",
      "Tearing down object...\n",
      "[============================================================] 100.0% 231/231 ~ 0:0:0 remaining\n"
     ]
    }
   ],
   "source": [
    "for data in DSToIngest:\n",
    "    \n",
    "    print(\"running:\",data[\"file\"])\n",
    "    \n",
    "    with open(data[\"file\"], \"rb\") as fp:\n",
    "        df = pickle.load(fp)\n",
    "        \n",
    "    if data[\"na_allowed\"] is False:\n",
    "        assert df.isnull().values.any() == False\n",
    "    \n",
    "    df = df.reset_index(drop=False)\n",
    "    df = df.rename(index=str, columns={\"index\":\"cell_id\"})\n",
    "    \n",
    "    ds = dsdb.Dataset(df, name=data[\"name\"], description=data[\"description\"])\n",
    "    \n",
    "    ds.upload_to(prod)"
   ]
  },
  {
   "cell_type": "code",
   "execution_count": 7,
   "metadata": {},
   "outputs": [
    {
     "data": {
      "text/plain": [
       "'c062b067037fe289f7b8e4787542c38d'"
      ]
     },
     "execution_count": 7,
     "metadata": {},
     "output_type": "execute_result"
    }
   ],
   "source": [
    "ds.md5"
   ]
  },
  {
   "cell_type": "code",
   "execution_count": null,
   "metadata": {},
   "outputs": [],
   "source": []
  }
 ],
 "metadata": {
  "kernelspec": {
   "display_name": "Python 3",
   "language": "python",
   "name": "python3"
  },
  "language_info": {
   "codemirror_mode": {
    "name": "ipython",
    "version": 3
   },
   "file_extension": ".py",
   "mimetype": "text/x-python",
   "name": "python",
   "nbconvert_exporter": "python",
   "pygments_lexer": "ipython3",
   "version": "3.6.6"
  }
 },
 "nbformat": 4,
 "nbformat_minor": 2
}
