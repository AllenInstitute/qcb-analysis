{
 "cells": [
  {
   "cell_type": "code",
   "execution_count": 1,
   "metadata": {},
   "outputs": [
    {
     "name": "stdout",
     "output_type": "stream",
     "text": [
      "1.0.31.stable\n"
     ]
    }
   ],
   "source": [
    "import os\n",
    "import glob\n",
    "import json\n",
    "import pickle\n",
    "import numpy as np\n",
    "import pandas as pd\n",
    "import datasetdatabase as dsdb\n",
    "\n",
    "print(dsdb.version.VERSION)\n",
    "\n",
    "os.environ[\"DSDB_PROCESS_LIMIT\"] = \"16\""
   ]
  },
  {
   "cell_type": "markdown",
   "metadata": {},
   "source": [
    "Reading the config file"
   ]
  },
  {
   "cell_type": "code",
   "execution_count": 7,
   "metadata": {},
   "outputs": [
    {
     "name": "stdout",
     "output_type": "stream",
     "text": [
      "{\n",
      "  \"meta\": \"QCB_drug_cell_meta\",\n",
      "  \"id\": \"cell_id\",\n",
      "  \"cell_info\": \"/allen/aics/assay-dev/Analysis/QCB_DRUG_database/cell_info\",\n",
      "  \"raw_prefix\": \"raw.ome.tif\",\n",
      "  \"seg_prefix\": \"seg.ome.tif\",\n",
      "  \"mem_channel\": 1,\n",
      "  \"dna_channel\": 0,\n",
      "  \"str_channel\": 2,\n",
      "  \"run\": [\n",
      "    {\n",
      "      \"status\": \"off\",\n",
      "      \"structure_name\": \"cell\",\n",
      "      \"extra_features\": [],\n",
      "      \"description\": \"Cell features extracted from QCB DRUG images\",\n",
      "      \"save_as\": \"QCB_DRUG_CELL_feature.pkl\"\n",
      "    },\n",
      "    {\n",
      "      \"status\": \"off\",\n",
      "      \"structure_name\": \"dna\",\n",
      "      \"extra_features\": [],\n",
      "      \"description\": \"Nucleus features extracted from QCB DRUG images\",\n",
      "      \"save_as\": \"QCB_DRUG_DNA_feature.pkl\"\n",
      "    },\n",
      "    {\n",
      "      \"status\": \"on\",\n",
      "      \"structure_name\": \"tubulin\",\n",
      "      \"extra_features\": [\n",
      "        \"network\"\n",
      "      ],\n",
      "      \"description\": \"Features extracted from QCB DRUG images of TUBA1B-tagged microtubules\",\n",
      "      \"save_as\": \"QCB_DRUG_TUBA1B_feature.pkl\"\n",
      "    },\n",
      "    {\n",
      "      \"status\": \"off\",\n",
      "      \"structure_name\": \"sec61b\",\n",
      "      \"extra_features\": [\n",
      "        \"network\",\n",
      "        \"intensity\"\n",
      "      ],\n",
      "      \"description\": \"Features extracted from QCB DRUG images of SEC61B-tagged ER\",\n",
      "      \"save_as\": \"QCB_DRUG_SEC61B_feature.pkl\"\n",
      "    },\n",
      "    {\n",
      "      \"status\": \"off\",\n",
      "      \"structure_name\": \"golgi\",\n",
      "      \"extra_features\": [],\n",
      "      \"description\": \"Features extracted from QCB DRUG images of ST6GAL-tagged Golgi\",\n",
      "      \"save_as\": \"QCB_DRUG_ST6GAL_feature.pkl\"\n",
      "    }\n",
      "  ],\n",
      "  \"database\": \"/allen/aics/assay-dev/Analysis/QCB_database/prod_config.json\"\n",
      "}\n"
     ]
    }
   ],
   "source": [
    "with open(\"../qcb-drug-config.json\", \"r\") as fjson:\n",
    "    config_json = json.load(fjson)\n",
    "print(json.dumps(config_json, indent=2))"
   ]
  },
  {
   "cell_type": "markdown",
   "metadata": {},
   "source": [
    "Loading metadata"
   ]
  },
  {
   "cell_type": "code",
   "execution_count": 8,
   "metadata": {},
   "outputs": [
    {
     "data": {
      "text/html": [
       "<div>\n",
       "<style scoped>\n",
       "    .dataframe tbody tr th:only-of-type {\n",
       "        vertical-align: middle;\n",
       "    }\n",
       "\n",
       "    .dataframe tbody tr th {\n",
       "        vertical-align: top;\n",
       "    }\n",
       "\n",
       "    .dataframe thead th {\n",
       "        text-align: right;\n",
       "    }\n",
       "</style>\n",
       "<table border=\"1\" class=\"dataframe\">\n",
       "  <thead>\n",
       "    <tr style=\"text-align: right;\">\n",
       "      <th></th>\n",
       "      <th>cell_id</th>\n",
       "      <th>cell_ver</th>\n",
       "      <th>czi_filename</th>\n",
       "      <th>drug_label</th>\n",
       "      <th>idx_in_stack</th>\n",
       "      <th>roi</th>\n",
       "      <th>str_ver</th>\n",
       "      <th>structure_name</th>\n",
       "    </tr>\n",
       "  </thead>\n",
       "  <tbody>\n",
       "    <tr>\n",
       "      <th>0</th>\n",
       "      <td>0ade9e16-db16-420a-9ccb-8cad3b32ee04</td>\n",
       "      <td>0.1.0</td>\n",
       "      <td>3500001171_100X_20170811_1-Scene-1-P7-D05.czi</td>\n",
       "      <td>Paclitaxol</td>\n",
       "      <td>1</td>\n",
       "      <td>[35, 141, 113, 380, 264, 469]</td>\n",
       "      <td>0.1.0</td>\n",
       "      <td>tubulin</td>\n",
       "    </tr>\n",
       "    <tr>\n",
       "      <th>1</th>\n",
       "      <td>ca1f5d66-da95-4208-bd89-65c6c614a9f1</td>\n",
       "      <td>0.1.0</td>\n",
       "      <td>3500001171_100X_20170811_1-Scene-1-P7-D05.czi</td>\n",
       "      <td>Paclitaxol</td>\n",
       "      <td>2</td>\n",
       "      <td>[35, 139, 183, 427, 327, 608]</td>\n",
       "      <td>0.1.0</td>\n",
       "      <td>tubulin</td>\n",
       "    </tr>\n",
       "    <tr>\n",
       "      <th>2</th>\n",
       "      <td>662de948-69c0-4b93-92f8-f3bcc7e38655</td>\n",
       "      <td>0.1.0</td>\n",
       "      <td>3500001171_100X_20170811_1-Scene-1-P7-D05.czi</td>\n",
       "      <td>Paclitaxol</td>\n",
       "      <td>3</td>\n",
       "      <td>[35, 139, 225, 458, 23, 406]</td>\n",
       "      <td>0.1.0</td>\n",
       "      <td>tubulin</td>\n",
       "    </tr>\n",
       "    <tr>\n",
       "      <th>3</th>\n",
       "      <td>7806500f-6df9-4b9f-8b23-fde6fd09d40e</td>\n",
       "      <td>0.1.0</td>\n",
       "      <td>3500001171_100X_20170811_1-Scene-1-P7-D05.czi</td>\n",
       "      <td>Paclitaxol</td>\n",
       "      <td>4</td>\n",
       "      <td>[35, 144, 403, 529, 156, 439]</td>\n",
       "      <td>0.1.0</td>\n",
       "      <td>tubulin</td>\n",
       "    </tr>\n",
       "    <tr>\n",
       "      <th>4</th>\n",
       "      <td>17fcb999-72a5-425d-b485-b02edb16651c</td>\n",
       "      <td>0.1.0</td>\n",
       "      <td>3500001171_100X_20170811_1-Scene-1-P7-D05.czi</td>\n",
       "      <td>Paclitaxol</td>\n",
       "      <td>9</td>\n",
       "      <td>[35, 147, 293, 450, 168, 397]</td>\n",
       "      <td>0.1.0</td>\n",
       "      <td>tubulin</td>\n",
       "    </tr>\n",
       "  </tbody>\n",
       "</table>\n",
       "</div>"
      ],
      "text/plain": [
       "                                cell_id cell_ver  \\\n",
       "0  0ade9e16-db16-420a-9ccb-8cad3b32ee04    0.1.0   \n",
       "1  ca1f5d66-da95-4208-bd89-65c6c614a9f1    0.1.0   \n",
       "2  662de948-69c0-4b93-92f8-f3bcc7e38655    0.1.0   \n",
       "3  7806500f-6df9-4b9f-8b23-fde6fd09d40e    0.1.0   \n",
       "4  17fcb999-72a5-425d-b485-b02edb16651c    0.1.0   \n",
       "\n",
       "                                    czi_filename  drug_label  idx_in_stack  \\\n",
       "0  3500001171_100X_20170811_1-Scene-1-P7-D05.czi  Paclitaxol             1   \n",
       "1  3500001171_100X_20170811_1-Scene-1-P7-D05.czi  Paclitaxol             2   \n",
       "2  3500001171_100X_20170811_1-Scene-1-P7-D05.czi  Paclitaxol             3   \n",
       "3  3500001171_100X_20170811_1-Scene-1-P7-D05.czi  Paclitaxol             4   \n",
       "4  3500001171_100X_20170811_1-Scene-1-P7-D05.czi  Paclitaxol             9   \n",
       "\n",
       "                             roi str_ver structure_name  \n",
       "0  [35, 141, 113, 380, 264, 469]   0.1.0        tubulin  \n",
       "1  [35, 139, 183, 427, 327, 608]   0.1.0        tubulin  \n",
       "2   [35, 139, 225, 458, 23, 406]   0.1.0        tubulin  \n",
       "3  [35, 144, 403, 529, 156, 439]   0.1.0        tubulin  \n",
       "4  [35, 147, 293, 450, 168, 397]   0.1.0        tubulin  "
      ]
     },
     "execution_count": 8,
     "metadata": {},
     "output_type": "execute_result"
    }
   ],
   "source": [
    "with open(os.path.join(\"../../data-raw/\",config_json[\"meta\"]+\".pkl\"), \"rb\") as fp:\n",
    "    df_meta = pickle.load(fp)\n",
    "df_meta.head()"
   ]
  },
  {
   "cell_type": "code",
   "execution_count": 9,
   "metadata": {},
   "outputs": [
    {
     "data": {
      "text/plain": [
       "(1519, 8)"
      ]
     },
     "execution_count": 9,
     "metadata": {},
     "output_type": "execute_result"
    }
   ],
   "source": [
    "df_meta.shape"
   ]
  },
  {
   "cell_type": "markdown",
   "metadata": {},
   "source": [
    "Connecting to database"
   ]
  },
  {
   "cell_type": "code",
   "execution_count": 10,
   "metadata": {},
   "outputs": [],
   "source": [
    "prod = dsdb.DatasetDatabase(config=config_json[\"database\"])"
   ]
  },
  {
   "cell_type": "markdown",
   "metadata": {},
   "source": [
    "Uploading datasets"
   ]
  },
  {
   "cell_type": "code",
   "execution_count": 11,
   "metadata": {},
   "outputs": [
    {
     "name": "stdout",
     "output_type": "stream",
     "text": [
      "running: tubulin save as QCB_DRUG_TUBA1B_feature\n",
      "\t dataset QCB_DRUG_TUBA1B_feature purged\n",
      "Storing algorithm parameters.\n",
      "Input dataset already exists in database. 1\n",
      "Tearing down object...\n",
      "[============================================================] 100.0% 228/228 ~ 0:0:0 remaining\n"
     ]
    }
   ],
   "source": [
    "for struct in config_json[\"run\"]:\n",
    "    \n",
    "    if struct[\"status\"] == \"on\":\n",
    "        \n",
    "        ds_name = struct[\"save_as\"].replace(\".pkl\",\"\")\n",
    "        \n",
    "        print(\"running:\", struct[\"structure_name\"], \"save as\", ds_name)\n",
    "\n",
    "        try:\n",
    "            prod._purge_dataset(name=ds_name)\n",
    "            print(\"\\t dataset\",ds_name,\"purged\")\n",
    "        except: pass\n",
    "        \n",
    "        with open(os.path.join(\"../../data-raw/\",struct[\"save_as\"]), \"rb\") as fp:\n",
    "            df = pickle.load(fp)\n",
    "  \n",
    "        df = df.reset_index(drop=False)\n",
    "        df = df.rename(index=str, columns={\"index\":\"cell_id\"})\n",
    "        ds = dsdb.Dataset(df, name=ds_name, description=struct[\"description\"])\n",
    "\n",
    "        ds.upload_to(prod)"
   ]
  },
  {
   "cell_type": "code",
   "execution_count": null,
   "metadata": {},
   "outputs": [],
   "source": []
  }
 ],
 "metadata": {
  "kernelspec": {
   "display_name": "Python 3",
   "language": "python",
   "name": "python3"
  },
  "language_info": {
   "codemirror_mode": {
    "name": "ipython",
    "version": 3
   },
   "file_extension": ".py",
   "mimetype": "text/x-python",
   "name": "python",
   "nbconvert_exporter": "python",
   "pygments_lexer": "ipython3",
   "version": "3.6.6"
  }
 },
 "nbformat": 4,
 "nbformat_minor": 2
}
