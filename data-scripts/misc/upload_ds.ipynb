{
 "cells": [
  {
   "cell_type": "code",
   "execution_count": 1,
   "metadata": {},
   "outputs": [],
   "source": [
    "import os\n",
    "import glob\n",
    "import pickle\n",
    "import numpy as np\n",
    "import pandas as pd\n",
    "import datasetdatabase as dsdb\n",
    "\n",
    "os.environ[\"DSDB_PROCESS_LIMIT\"] = \"16\""
   ]
  },
  {
   "cell_type": "markdown",
   "metadata": {},
   "source": [
    "# MEM, DNA and FOV Datasets"
   ]
  },
  {
   "cell_type": "markdown",
   "metadata": {},
   "source": [
    "Connecting to dsdb"
   ]
  },
  {
   "cell_type": "code",
   "execution_count": 2,
   "metadata": {},
   "outputs": [],
   "source": [
    "prod = dsdb.DatasetDatabase(config=\"/allen/aics/assay-dev/Analysis/QCB_database/prod_config.json\")"
   ]
  },
  {
   "cell_type": "markdown",
   "metadata": {},
   "source": [
    "Loading metadata"
   ]
  },
  {
   "cell_type": "code",
   "execution_count": 3,
   "metadata": {},
   "outputs": [
    {
     "data": {
      "text/html": [
       "<div>\n",
       "<style scoped>\n",
       "    .dataframe tbody tr th:only-of-type {\n",
       "        vertical-align: middle;\n",
       "    }\n",
       "\n",
       "    .dataframe tbody tr th {\n",
       "        vertical-align: top;\n",
       "    }\n",
       "\n",
       "    .dataframe thead th {\n",
       "        text-align: right;\n",
       "    }\n",
       "</style>\n",
       "<table border=\"1\" class=\"dataframe\">\n",
       "  <thead>\n",
       "    <tr style=\"text-align: right;\">\n",
       "      <th></th>\n",
       "      <th>cell_id</th>\n",
       "      <th>cell_ver</th>\n",
       "      <th>czi_filename</th>\n",
       "      <th>idx_in_stack</th>\n",
       "      <th>mitosis</th>\n",
       "      <th>mode</th>\n",
       "      <th>roi</th>\n",
       "      <th>src_csv</th>\n",
       "      <th>src_csv_row</th>\n",
       "      <th>str_ver</th>\n",
       "      <th>structure_name</th>\n",
       "    </tr>\n",
       "  </thead>\n",
       "  <tbody>\n",
       "    <tr>\n",
       "      <th>0</th>\n",
       "      <td>c17a53d0-7ff6-4106-ab53-d2be3240f168</td>\n",
       "      <td>0.1.0</td>\n",
       "      <td>20161209_C01_002.czi</td>\n",
       "      <td>3</td>\n",
       "      <td>0</td>\n",
       "      <td>n</td>\n",
       "      <td>[19, 195, 332, 513, 65, 295]</td>\n",
       "      <td>//allen/aics/assay-dev/StashSpreadsheets/assay...</td>\n",
       "      <td>7</td>\n",
       "      <td>0.1.0</td>\n",
       "      <td>FBL</td>\n",
       "    </tr>\n",
       "    <tr>\n",
       "      <th>1</th>\n",
       "      <td>77f11f0d-66d9-49c5-b2b8-be40777780ed</td>\n",
       "      <td>0.1.0</td>\n",
       "      <td>20161209_C01_002.czi</td>\n",
       "      <td>4</td>\n",
       "      <td>0</td>\n",
       "      <td>n</td>\n",
       "      <td>[19, 187, 264, 453, 226, 444]</td>\n",
       "      <td>//allen/aics/assay-dev/StashSpreadsheets/assay...</td>\n",
       "      <td>8</td>\n",
       "      <td>0.1.0</td>\n",
       "      <td>FBL</td>\n",
       "    </tr>\n",
       "    <tr>\n",
       "      <th>2</th>\n",
       "      <td>427284a7-02b2-440b-a1b0-28c0b8f12379</td>\n",
       "      <td>0.1.0</td>\n",
       "      <td>20161209_C01_002.czi</td>\n",
       "      <td>5</td>\n",
       "      <td>0</td>\n",
       "      <td>n</td>\n",
       "      <td>[19, 190, 73, 322, 422, 613]</td>\n",
       "      <td>//allen/aics/assay-dev/StashSpreadsheets/assay...</td>\n",
       "      <td>9</td>\n",
       "      <td>0.1.0</td>\n",
       "      <td>FBL</td>\n",
       "    </tr>\n",
       "    <tr>\n",
       "      <th>3</th>\n",
       "      <td>0241af5b-4133-4525-9d14-9a65f8a93f6f</td>\n",
       "      <td>0.1.0</td>\n",
       "      <td>20161209_C01_002.czi</td>\n",
       "      <td>7</td>\n",
       "      <td>0</td>\n",
       "      <td>n</td>\n",
       "      <td>[19, 195, 355, 594, 68, 397]</td>\n",
       "      <td>//allen/aics/assay-dev/StashSpreadsheets/assay...</td>\n",
       "      <td>11</td>\n",
       "      <td>0.1.0</td>\n",
       "      <td>FBL</td>\n",
       "    </tr>\n",
       "    <tr>\n",
       "      <th>4</th>\n",
       "      <td>a705b03f-7af4-4fba-9e8f-8b20b085a1ab</td>\n",
       "      <td>0.1.0</td>\n",
       "      <td>20161209_C01_003.czi</td>\n",
       "      <td>1</td>\n",
       "      <td>0</td>\n",
       "      <td>n</td>\n",
       "      <td>[8, 189, 78, 297, 228, 481]</td>\n",
       "      <td>//allen/aics/assay-dev/StashSpreadsheets/assay...</td>\n",
       "      <td>15</td>\n",
       "      <td>0.1.0</td>\n",
       "      <td>FBL</td>\n",
       "    </tr>\n",
       "  </tbody>\n",
       "</table>\n",
       "</div>"
      ],
      "text/plain": [
       "                                cell_id cell_ver          czi_filename  \\\n",
       "0  c17a53d0-7ff6-4106-ab53-d2be3240f168    0.1.0  20161209_C01_002.czi   \n",
       "1  77f11f0d-66d9-49c5-b2b8-be40777780ed    0.1.0  20161209_C01_002.czi   \n",
       "2  427284a7-02b2-440b-a1b0-28c0b8f12379    0.1.0  20161209_C01_002.czi   \n",
       "3  0241af5b-4133-4525-9d14-9a65f8a93f6f    0.1.0  20161209_C01_002.czi   \n",
       "4  a705b03f-7af4-4fba-9e8f-8b20b085a1ab    0.1.0  20161209_C01_003.czi   \n",
       "\n",
       "   idx_in_stack  mitosis mode                            roi  \\\n",
       "0             3        0    n   [19, 195, 332, 513, 65, 295]   \n",
       "1             4        0    n  [19, 187, 264, 453, 226, 444]   \n",
       "2             5        0    n   [19, 190, 73, 322, 422, 613]   \n",
       "3             7        0    n   [19, 195, 355, 594, 68, 397]   \n",
       "4             1        0    n    [8, 189, 78, 297, 228, 481]   \n",
       "\n",
       "                                             src_csv  src_csv_row str_ver  \\\n",
       "0  //allen/aics/assay-dev/StashSpreadsheets/assay...            7   0.1.0   \n",
       "1  //allen/aics/assay-dev/StashSpreadsheets/assay...            8   0.1.0   \n",
       "2  //allen/aics/assay-dev/StashSpreadsheets/assay...            9   0.1.0   \n",
       "3  //allen/aics/assay-dev/StashSpreadsheets/assay...           11   0.1.0   \n",
       "4  //allen/aics/assay-dev/StashSpreadsheets/assay...           15   0.1.0   \n",
       "\n",
       "  structure_name  \n",
       "0            FBL  \n",
       "1            FBL  \n",
       "2            FBL  \n",
       "3            FBL  \n",
       "4            FBL  "
      ]
     },
     "execution_count": 3,
     "metadata": {},
     "output_type": "execute_result"
    }
   ],
   "source": [
    "with open(\"../../data-raw/QCB_cell_meta.pkl\", \"rb\") as fp:\n",
    "    df_meta = pickle.load(fp)\n",
    "\n",
    "df_meta.head()"
   ]
  },
  {
   "cell_type": "markdown",
   "metadata": {},
   "source": [
    "Upload exiting local pkl files"
   ]
  },
  {
   "cell_type": "code",
   "execution_count": 11,
   "metadata": {},
   "outputs": [],
   "source": [
    "DSToIngest = [\n",
    "    {\"file\": \"QCB_DRUG_MEM_feature.pkl\",\n",
    "     \"name\": \"QCB_DRUG_MEM_feature\",\n",
    "     \"description\": \"Cell membrane features extracted from QCB DRUG data\",\n",
    "     \"na_allowed\": True,\n",
    "     \"meta_id\": \"cell_id\"},\n",
    "    {\"file\": \"QCB_DRUG_DNA_feature.pkl\",\n",
    "     \"name\": \"QCB_DRUG_DNA_feature\",\n",
    "     \"description\": \"Nucleus features extracted from QCB DRUG data\",\n",
    "     \"na_allowed\": True,\n",
    "     \"meta_id\": \"cell_id\"}]"
   ]
  },
  {
   "cell_type": "markdown",
   "metadata": {},
   "source": [
    "Purge datasets first"
   ]
  },
  {
   "cell_type": "code",
   "execution_count": 12,
   "metadata": {},
   "outputs": [
    {
     "name": "stdout",
     "output_type": "stream",
     "text": [
      "Purging:  QCB_DRUG_MEM_feature.pkl\n",
      "Purging:  QCB_DRUG_DNA_feature.pkl\n"
     ]
    }
   ],
   "source": [
    "for data in DSToIngest:\n",
    "    \n",
    "    print(\"Purging: \",data[\"file\"])\n",
    "    \n",
    "    try:\n",
    "        prod._purge_dataset(name=data[\"name\"])\n",
    "    except: pass"
   ]
  },
  {
   "cell_type": "code",
   "execution_count": 13,
   "metadata": {},
   "outputs": [
    {
     "name": "stdout",
     "output_type": "stream",
     "text": [
      "running: QCB_DRUG_MEM_feature.pkl\n",
      "Storing algorithm parameters.\n",
      "Input dataset already exists in database. 1\n",
      "Tearing down object...\n",
      "[============================================================] 100.0% 1519/1519 ~ 0:0:0 remaining\n",
      "running: QCB_DRUG_DNA_feature.pkl\n",
      "Storing algorithm parameters.\n",
      "Input dataset already exists in database. 1\n",
      "Tearing down object...\n",
      "[============================================================] 100.0% 1519/1519 ~ 0:0:0 remaining\n"
     ]
    }
   ],
   "source": [
    "for data in DSToIngest:\n",
    "    \n",
    "    print(\"running:\",data[\"file\"])\n",
    "    \n",
    "    with open(os.path.join(\"../../data-raw/\",data[\"file\"]), \"rb\") as fp:\n",
    "        df = pickle.load(fp)\n",
    "        \n",
    "    if data[\"na_allowed\"] is False:\n",
    "        assert df.isnull().values.any() == False\n",
    "\n",
    "    if data[\"meta_id\"] is not None:\n",
    "        df = pd.concat([df.reset_index(drop=True), df_meta[data[\"meta_id\"]]], axis=1)\n",
    "    \n",
    "    ds = dsdb.Dataset(df, name=data[\"name\"], description=data[\"description\"])\n",
    "    \n",
    "    ds.upload_to(prod)"
   ]
  },
  {
   "cell_type": "markdown",
   "metadata": {},
   "source": [
    "Checking uploaded datasets"
   ]
  },
  {
   "cell_type": "code",
   "execution_count": 14,
   "metadata": {},
   "outputs": [
    {
     "name": "stdout",
     "output_type": "stream",
     "text": [
      "{'info': {'id': 58, 'name': 'QCB_DRUG_MEM_feature', 'description': 'Cell membrane features extracted from QCB DRUG data', 'introspector': 'datasetdatabase.introspect.dataframe.DataFrameIntrospector', 'created': datetime.datetime(2018, 10, 9, 20, 42, 27, 788234)}, 'shape': (1519, 46), 'keys': ['mem_volume', 'mem_surface_area', 'mem_1st_axis_x', 'mem_1st_axis_y', 'mem_1st_axis_z', 'mem_2nd_axis_x', 'mem_2nd_axis_y', 'mem_2nd_axis_z', 'mem_3rd_axis_x', 'mem_3rd_axis_y', 'mem_3rd_axis_z', 'mem_1st_axis_length', 'mem_2nd_axis_length', 'mem_3rd_axis_length', 'mem_1st_eigenvalue', 'mem_2nd_eigenvalue', 'mem_3rd_eigenvalue', 'mem_meridional_eccentricity', 'mem_equator_eccentricity', 'mem_sphericity', 'mem_lowest_z', 'mem_highest_z', 'mem_x_centroid', 'mem_y_centroid', 'mem_z_centroid', 'mem_intensity_mean', 'mem_intensity_median', 'mem_intensity_sum', 'mem_intensity_mode', 'mem_intensity_max', 'mem_intensity_std', 'mem_intensity_entropy', 'mem_haralick_ang2nd_moment', 'mem_haralick_contrast', 'mem_haralick_corr', 'mem_haralick_variance', 'mem_haralick_inv_diff_moment', 'mem_haralick_sum_avg', 'mem_haralick_sum_var', 'mem_haralick_sum_entropy', 'mem_haralick_entropy', 'mem_haralick_diff_var', 'mem_haralick_diff_entropy', 'mem_haralick_info_corr1', 'mem_haralick_info_corr2', 'cell_id'], 'annotations': []}\n",
      "{'info': {'id': 59, 'name': 'QCB_DRUG_DNA_feature', 'description': 'Nucleus features extracted from QCB DRUG data', 'introspector': 'datasetdatabase.introspect.dataframe.DataFrameIntrospector', 'created': datetime.datetime(2018, 10, 9, 20, 44, 8, 597411)}, 'shape': (1519, 46), 'keys': ['dna_volume', 'dna_surface_area', 'dna_1st_axis_x', 'dna_1st_axis_y', 'dna_1st_axis_z', 'dna_2nd_axis_x', 'dna_2nd_axis_y', 'dna_2nd_axis_z', 'dna_3rd_axis_x', 'dna_3rd_axis_y', 'dna_3rd_axis_z', 'dna_1st_axis_length', 'dna_2nd_axis_length', 'dna_3rd_axis_length', 'dna_1st_eigenvalue', 'dna_2nd_eigenvalue', 'dna_3rd_eigenvalue', 'dna_meridional_eccentricity', 'dna_equator_eccentricity', 'dna_sphericity', 'dna_lowest_z', 'dna_highest_z', 'dna_x_centroid', 'dna_y_centroid', 'dna_z_centroid', 'dna_intensity_mean', 'dna_intensity_median', 'dna_intensity_sum', 'dna_intensity_mode', 'dna_intensity_max', 'dna_intensity_std', 'dna_intensity_entropy', 'dna_haralick_ang2nd_moment', 'dna_haralick_contrast', 'dna_haralick_corr', 'dna_haralick_variance', 'dna_haralick_inv_diff_moment', 'dna_haralick_sum_avg', 'dna_haralick_sum_var', 'dna_haralick_sum_entropy', 'dna_haralick_entropy', 'dna_haralick_diff_var', 'dna_haralick_diff_entropy', 'dna_haralick_info_corr1', 'dna_haralick_info_corr2', 'cell_id'], 'annotations': []}\n"
     ]
    }
   ],
   "source": [
    "for data in DSToIngest:\n",
    "    \n",
    "    try:\n",
    "        print(prod.preview(name=data[\"name\"]))\n",
    "    except:\n",
    "        print(data[\"name\"]+\" fail\")\n",
    "        pass"
   ]
  },
  {
   "cell_type": "markdown",
   "metadata": {},
   "source": [
    "# Structures Datasets"
   ]
  },
  {
   "cell_type": "markdown",
   "metadata": {},
   "source": [
    "Uploading existing structures pkl files"
   ]
  },
  {
   "cell_type": "code",
   "execution_count": 7,
   "metadata": {},
   "outputs": [],
   "source": [
    "DSToIngest = [\n",
    "    {\"file\": \"QCB_LMAP1_feature.pkl\",\n",
    "     \"name\": \"QCB_LAMP1_feature\",\n",
    "     \"description\": \"Features extracted from QCB images of LAMP1-tagged lysosome.\",\n",
    "     \"na_allowed\": True,\n",
    "     \"meta_id\": \"cell_id\"},\n",
    "    {\"file\": \"QCB_SEC61B_feature.pkl\",\n",
    "     \"name\": \"QCB_SEC61B_feature\",\n",
    "     \"description\": \"Features extracted from QCB images of SEC61B-tagged ER.\",\n",
    "     \"na_allowed\": True,\n",
    "     \"meta_id\": \"cell_id\"},\n",
    "    {\"file\": \"QCB_TUBA1B_feature.pkl\",\n",
    "     \"name\": \"QCB_TUBA1B_feature\",\n",
    "     \"description\": \"Features extracted from QCB images of TUBA1B-tagged microtubules.\",\n",
    "     \"na_allowed\": True,\n",
    "     \"meta_id\": \"cell_id\"},\n",
    "    {\"file\": \"QCB_ZO1_feature\",\n",
    "     \"name\": \"QCB_TJP1_feature\",\n",
    "     \"description\": \"Features extracted from QCB images of TJP1-tagged adherens junctions.\",\n",
    "     \"na_allowed\": True,\n",
    "     \"meta_id\": \"cell_id\"}]"
   ]
  },
  {
   "cell_type": "code",
   "execution_count": 8,
   "metadata": {},
   "outputs": [
    {
     "name": "stdout",
     "output_type": "stream",
     "text": [
      "running: QCB_ZO1_feature\n",
      "Storing algorithm parameters.\n",
      "Input dataset already exists in database. 1\n",
      "Tearing down object...\n",
      "[============================================================] 100.0% 396/396 ~ 0:0:0 remaining\n"
     ]
    }
   ],
   "source": [
    "for data in DSToIngest:\n",
    "    \n",
    "    print(\"running:\",data[\"file\"])\n",
    "    \n",
    "    with open(os.path.join(\"../../data-raw/\",data[\"file\"]), \"rb\") as fp:\n",
    "        df = pickle.load(fp)\n",
    "        \n",
    "    if data[\"na_allowed\"] is False:\n",
    "        assert df.isnull().values.any() == False\n",
    "    \n",
    "    df = df.reset_index(drop=False)\n",
    "    df = df.rename(index=str, columns={\"index\":\"cell_id\"})\n",
    "    \n",
    "    ds = dsdb.Dataset(df, name=data[\"name\"], description=data[\"description\"])\n",
    "    \n",
    "    ds.upload_to(prod)"
   ]
  },
  {
   "cell_type": "code",
   "execution_count": 7,
   "metadata": {},
   "outputs": [
    {
     "data": {
      "text/plain": [
       "'c062b067037fe289f7b8e4787542c38d'"
      ]
     },
     "execution_count": 7,
     "metadata": {},
     "output_type": "execute_result"
    }
   ],
   "source": [
    "ds.md5"
   ]
  },
  {
   "cell_type": "code",
   "execution_count": null,
   "metadata": {},
   "outputs": [],
   "source": []
  }
 ],
 "metadata": {
  "kernelspec": {
   "display_name": "Python 3",
   "language": "python",
   "name": "python3"
  },
  "language_info": {
   "codemirror_mode": {
    "name": "ipython",
    "version": 3
   },
   "file_extension": ".py",
   "mimetype": "text/x-python",
   "name": "python",
   "nbconvert_exporter": "python",
   "pygments_lexer": "ipython3",
   "version": "3.6.6"
  }
 },
 "nbformat": 4,
 "nbformat_minor": 2
}
