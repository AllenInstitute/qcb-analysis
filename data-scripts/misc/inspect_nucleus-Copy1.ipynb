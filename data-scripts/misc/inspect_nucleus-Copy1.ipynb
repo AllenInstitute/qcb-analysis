{
 "cells": [
  {
   "cell_type": "code",
   "execution_count": 1,
   "metadata": {},
   "outputs": [],
   "source": [
    "import os\n",
    "import json\n",
    "import numpy as np\n",
    "from skimage import io as skio\n",
    "from skimage.transform import resize\n",
    "import matplotlib.pyplot as plt\n",
    "from skimage.measure import label"
   ]
  },
  {
   "cell_type": "code",
   "execution_count": 2,
   "metadata": {},
   "outputs": [],
   "source": [
    "import javabridge as jv, bioformats as bf\n",
    "jv.start_vm(class_path=bf.JARS, max_heap_size='4G')\n",
    "\n",
    "def get_stack_from_series_id(czi_path, channel, series_id, dim):\n",
    "\n",
    "    # Extraction a series from multi-position CZI\n",
    "\n",
    "    img_raw = []\n",
    "    for slice in range(dim[0]):\n",
    "        img_raw.append(bf.load_image(path=czi_path, series=series_id, c=channel, z=slice, t=0, rescale=False))\n",
    "    img_raw = np.array(img_raw).reshape(*dim)\n",
    "\n",
    "    return img_raw\n",
    "\n",
    "from skimage.filters import gaussian\n",
    "from skimage.morphology import extrema, binary_dilation\n",
    "\n",
    "def norm_and_smooth(img_original):\n",
    "\n",
    "    # Uses Jianxu's normalization and Gaussian smooth to\n",
    "    # preprocess the input image. Parameters have default\n",
    "    # values used in the segmentation toolkit.\n",
    "\n",
    "    smooth_sigma = 1.0\n",
    "    scaling_params = [0.5, 18]\n",
    "\n",
    "    img_norm = img_original.copy()\n",
    "    mean = img_norm.mean()\n",
    "    stdv = img_norm.std()\n",
    "    strech_min = np.max([mean-scaling_params[0]*stdv, img_norm.min()])\n",
    "    strech_max = np.min([mean+scaling_params[1]*stdv, img_norm.max()])\n",
    "    img_norm[img_norm > strech_max] = strech_max\n",
    "    img_norm[img_norm < strech_min] = strech_min\n",
    "    img_norm = (img_norm-strech_min + 1e-8)/(strech_max-strech_min + 1e-8)\n",
    "    img_norm = gaussian(image=img_norm, sigma=smooth_sigma)\n",
    "\n",
    "    # img_norm may contain negative values\n",
    "\n",
    "    return img_norm"
   ]
  },
  {
   "cell_type": "code",
   "execution_count": null,
   "metadata": {},
   "outputs": [],
   "source": [
    "with open(\"../config-mix.json\", \"r\") as fj:\n",
    "    config_json = json.load(fj)\n",
    "config_json = config_json[\"data\"]\n",
    "config_czi = config_json[0]\n",
    "config_czi[\"raw_path\"]"
   ]
  },
  {
   "cell_type": "code",
   "execution_count": 3,
   "metadata": {},
   "outputs": [],
   "source": [
    "raw_path = \"/allen/aics/assay-dev/MicroscopyData/Caroline/2018/20181016/20181016_C04_011_Out.czi\"\n",
    "seg_mem_name = \"/allen/aics/assay-dev/MicroscopyOtherData/Jianxu/Nucleus/segmentation/880_HIPSC_H2B_No_1/shape/20181016_C04_011_Out_seg_0.ome.tif\"\n",
    "seg_nuc_name = \"/allen/aics/assay-dev/MicroscopyOtherData/Jianxu/Nucleus/segmentation/880_HIPSC_H2B_No_1/shape/20181016_C04_011_Out_seg_0.ome.tif\""
   ]
  },
  {
   "cell_type": "code",
   "execution_count": 7,
   "metadata": {},
   "outputs": [
    {
     "name": "stdout",
     "output_type": "stream",
     "text": [
      "(63, 662, 662) (63, 662, 662)\n"
     ]
    },
    {
     "data": {
      "image/png": "[encoded data removed]",
      "text/plain": [
       "<Figure size 432x288 with 2 Axes>"
      ]
     },
     "metadata": {
      "needs_background": "light"
     },
     "output_type": "display_data"
    }
   ],
   "source": [
    "img_mem_seg_all = skio.imread(seg_mem_name)\n",
    "img_dna_seg_all = skio.imread(seg_nuc_name)\n",
    "nz, ny, nx = img_mem_seg_all.shape\n",
    "fig, ax = plt.subplots(1,2)\n",
    "ax[0].imshow(img_mem_seg_all.max(axis=0))\n",
    "ax[1].imshow(img_dna_seg_all.max(axis=0))\n",
    "print(img_mem_seg_all.shape,img_dna_seg_all.shape)"
   ]
  },
  {
   "cell_type": "code",
   "execution_count": 8,
   "metadata": {},
   "outputs": [
    {
     "ename": "ValueError",
     "evalue": "cannot reshape array of size 110437488 into shape (63,662,662)",
     "output_type": "error",
     "traceback": [
      "\u001b[0;31m---------------------------------------------------------------------------\u001b[0m",
      "\u001b[0;31mValueError\u001b[0m                                Traceback (most recent call last)",
      "\u001b[0;32m<ipython-input-8-c236a52585be>\u001b[0m in \u001b[0;36m<module>\u001b[0;34m()\u001b[0m\n\u001b[0;32m----> 1\u001b[0;31m \u001b[0mimg_raw\u001b[0m \u001b[0;34m=\u001b[0m \u001b[0mget_stack_from_series_id\u001b[0m\u001b[0;34m(\u001b[0m\u001b[0mczi_path\u001b[0m\u001b[0;34m=\u001b[0m\u001b[0mraw_path\u001b[0m\u001b[0;34m,\u001b[0m \u001b[0mchannel\u001b[0m\u001b[0;34m=\u001b[0m\u001b[0;36m0\u001b[0m\u001b[0;34m,\u001b[0m \u001b[0mseries_id\u001b[0m\u001b[0;34m=\u001b[0m\u001b[0;36m0\u001b[0m\u001b[0;34m,\u001b[0m \u001b[0mdim\u001b[0m\u001b[0;34m=\u001b[0m\u001b[0;34m(\u001b[0m\u001b[0mnz\u001b[0m\u001b[0;34m,\u001b[0m\u001b[0mny\u001b[0m\u001b[0;34m,\u001b[0m\u001b[0mnx\u001b[0m\u001b[0;34m)\u001b[0m\u001b[0;34m)\u001b[0m\u001b[0;34m\u001b[0m\u001b[0m\n\u001b[0m\u001b[1;32m      2\u001b[0m \u001b[0mplt\u001b[0m\u001b[0;34m.\u001b[0m\u001b[0mimshow\u001b[0m\u001b[0;34m(\u001b[0m\u001b[0mimg_raw\u001b[0m\u001b[0;34m[\u001b[0m\u001b[0mint\u001b[0m\u001b[0;34m(\u001b[0m\u001b[0;36m0.5\u001b[0m\u001b[0;34m*\u001b[0m\u001b[0mnz\u001b[0m\u001b[0;34m)\u001b[0m\u001b[0;34m,\u001b[0m\u001b[0;34m:\u001b[0m\u001b[0;34m,\u001b[0m\u001b[0;34m:\u001b[0m\u001b[0;34m]\u001b[0m\u001b[0;34m)\u001b[0m\u001b[0;34m\u001b[0m\u001b[0m\n",
      "\u001b[0;32m<ipython-input-2-3752e8a44c7b>\u001b[0m in \u001b[0;36mget_stack_from_series_id\u001b[0;34m(czi_path, channel, series_id, dim)\u001b[0m\n\u001b[1;32m      9\u001b[0m     \u001b[0;32mfor\u001b[0m \u001b[0mslice\u001b[0m \u001b[0;32min\u001b[0m \u001b[0mrange\u001b[0m\u001b[0;34m(\u001b[0m\u001b[0mdim\u001b[0m\u001b[0;34m[\u001b[0m\u001b[0;36m0\u001b[0m\u001b[0;34m]\u001b[0m\u001b[0;34m)\u001b[0m\u001b[0;34m:\u001b[0m\u001b[0;34m\u001b[0m\u001b[0m\n\u001b[1;32m     10\u001b[0m         \u001b[0mimg_raw\u001b[0m\u001b[0;34m.\u001b[0m\u001b[0mappend\u001b[0m\u001b[0;34m(\u001b[0m\u001b[0mbf\u001b[0m\u001b[0;34m.\u001b[0m\u001b[0mload_image\u001b[0m\u001b[0;34m(\u001b[0m\u001b[0mpath\u001b[0m\u001b[0;34m=\u001b[0m\u001b[0mczi_path\u001b[0m\u001b[0;34m,\u001b[0m \u001b[0mseries\u001b[0m\u001b[0;34m=\u001b[0m\u001b[0mseries_id\u001b[0m\u001b[0;34m,\u001b[0m \u001b[0mc\u001b[0m\u001b[0;34m=\u001b[0m\u001b[0mchannel\u001b[0m\u001b[0;34m,\u001b[0m \u001b[0mz\u001b[0m\u001b[0;34m=\u001b[0m\u001b[0mslice\u001b[0m\u001b[0;34m,\u001b[0m \u001b[0mt\u001b[0m\u001b[0;34m=\u001b[0m\u001b[0;36m0\u001b[0m\u001b[0;34m,\u001b[0m \u001b[0mrescale\u001b[0m\u001b[0;34m=\u001b[0m\u001b[0;32mFalse\u001b[0m\u001b[0;34m)\u001b[0m\u001b[0;34m)\u001b[0m\u001b[0;34m\u001b[0m\u001b[0m\n\u001b[0;32m---> 11\u001b[0;31m     \u001b[0mimg_raw\u001b[0m \u001b[0;34m=\u001b[0m \u001b[0mnp\u001b[0m\u001b[0;34m.\u001b[0m\u001b[0marray\u001b[0m\u001b[0;34m(\u001b[0m\u001b[0mimg_raw\u001b[0m\u001b[0;34m)\u001b[0m\u001b[0;34m.\u001b[0m\u001b[0mreshape\u001b[0m\u001b[0;34m(\u001b[0m\u001b[0;34m*\u001b[0m\u001b[0mdim\u001b[0m\u001b[0;34m)\u001b[0m\u001b[0;34m\u001b[0m\u001b[0m\n\u001b[0m\u001b[1;32m     12\u001b[0m \u001b[0;34m\u001b[0m\u001b[0m\n\u001b[1;32m     13\u001b[0m     \u001b[0;32mreturn\u001b[0m \u001b[0mimg_raw\u001b[0m\u001b[0;34m\u001b[0m\u001b[0m\n",
      "\u001b[0;31mValueError\u001b[0m: cannot reshape array of size 110437488 into shape (63,662,662)"
     ]
    }
   ],
   "source": [
    "img_raw = get_stack_from_series_id(czi_path=raw_path, channel=0, series_id=0, dim=(nz,ny,nx))\n",
    "plt.imshow(img_raw[int(0.5*nz),:,:])"
   ]
  },
  {
   "cell_type": "code",
   "execution_count": null,
   "metadata": {},
   "outputs": [],
   "source": [
    "img_mem_seg = img_mem_seg_all.copy()\n",
    "img_mem_seg[img_mem_seg==1] = 1\n",
    "img_mem_seg[img_mem_seg!=1] = 0\n",
    "pxl_z, pxl_y, pxl_x = np.nonzero(img_mem_seg)\n",
    "plt.imshow(img_mem_seg.mean(axis=0))\n",
    "print(np.ptp(pxl_z),np.ptp(pxl_y),np.ptp(pxl_x))"
   ]
  },
  {
   "cell_type": "code",
   "execution_count": null,
   "metadata": {},
   "outputs": [],
   "source": [
    "print(img_seg.shape[0]*img_seg.shape[1]*img_seg.shape[2])\n",
    "img_seg = label(img_seg)\n",
    "print(\"#Comps:\",np.unique(img_seg))\n",
    "print(\"Sizes:\",np.bincount(img_seg.flat,minlength=img_seg.max()))\n",
    "largest_cc = 1 + np.argmax(np.bincount(img_seg.flat)[1:])\n",
    "print(\"Largest CC:\", largest_cc)"
   ]
  },
  {
   "cell_type": "code",
   "execution_count": null,
   "metadata": {},
   "outputs": [],
   "source": [
    "if img_seg.max() > 1:\n",
    "    img_seg[img_seg!=largest_cc] = 0\n",
    "    img_seg[img_seg>0] = 1\n",
    "plt.imshow(img_seg.max(axis=0))\n",
    "plt.imshow(img_seg.max(axis=1))"
   ]
  },
  {
   "cell_type": "code",
   "execution_count": null,
   "metadata": {},
   "outputs": [],
   "source": [
    "img_input = img_raw * img_seg"
   ]
  },
  {
   "cell_type": "code",
   "execution_count": null,
   "metadata": {},
   "outputs": [],
   "source": [
    "pxl_z, pxl_y, pxl_x = np.nonzero(img_input)\n",
    "img_raw_crop = img_input[pxl_z.min():(pxl_z.max()+1),pxl_y.min():(pxl_y.max()+1),pxl_x.min():(pxl_x.max()+1)]\n",
    "plt.imshow(img_raw_crop.max(axis=1))"
   ]
  },
  {
   "cell_type": "code",
   "execution_count": null,
   "metadata": {},
   "outputs": [],
   "source": [
    "nz_crop, ny_crop, nx_crop = img_raw_crop.shape\n",
    "nz_crop_new = np.int((config_czi[\"pixel_size_z\"]/config_czi[\"pixel_size_xy\"])*nz_crop)\n",
    "print(img_raw_crop.shape, img_raw_crop.dtype)\n",
    "img_raw_crop_resize = resize(image=img_raw_crop, output_shape=(nz_crop_new,ny_crop,nx_crop), preserve_range=True, anti_aliasing=True, mode=\"constant\")\n",
    "img_raw_crop_resize = img_raw_crop_resize.astype(np.int64)\n",
    "print(img_raw_crop_resize.shape)\n",
    "print(img_raw_crop_resize.dtype,img_raw_crop_resize.min(),img_raw_crop_resize.max())\n",
    "fig, ax = plt.subplots(nrows=1,ncols=2)\n",
    "ax[0].imshow(img_raw_crop_resize.max(axis=0))\n",
    "ax[1].imshow(img_raw_crop_resize.max(axis=1))\n",
    "\n",
    "img_input = img_raw_crop_resize"
   ]
  },
  {
   "cell_type": "code",
   "execution_count": null,
   "metadata": {},
   "outputs": [],
   "source": [
    "img_norm = norm_and_smooth(img_original=img_input)"
   ]
  },
  {
   "cell_type": "code",
   "execution_count": null,
   "metadata": {},
   "outputs": [],
   "source": [
    "img_max = extrema.h_maxima(img_norm, h=0.25)\n",
    "z_pxl, y_pxl, x_pxl = np.nonzero(img_max)\n",
    "print(len(z_pxl))"
   ]
  },
  {
   "cell_type": "code",
   "execution_count": null,
   "metadata": {},
   "outputs": [],
   "source": [
    "img_input[0,0] = 2000\n",
    "avg = img_input[img_input>0].mean()\n",
    "std = img_input[img_input>0].std()\n",
    "fig, ax = plt.subplots(nrows=2,ncols=2)\n",
    "fig.suptitle(config_czi[\"])\n",
    "ax[0,0].imshow(img_input.max(axis=0))\n",
    "ax[0,0].plot(x_pxl,y_pxl,\"r+\")\n",
    "ax[0,1].imshow(img_input.max(axis=0)>(avg+2.0*std))\n",
    "ax[1,0].imshow(img_input.max(axis=1))\n",
    "ax[1,0].plot(x_pxl,z_pxl,\"r+\")\n",
    "ax[1,1].imshow(img_input.max(axis=1)>(avg+2.0*std))"
   ]
  },
  {
   "cell_type": "code",
   "execution_count": null,
   "metadata": {},
   "outputs": [],
   "source": []
  }
 ],
 "metadata": {
  "kernelspec": {
   "display_name": "Python 3",
   "language": "python",
   "name": "python3"
  },
  "language_info": {
   "codemirror_mode": {
    "name": "ipython",
    "version": 3
   },
   "file_extension": ".py",
   "mimetype": "text/x-python",
   "name": "python",
   "nbconvert_exporter": "python",
   "pygments_lexer": "ipython3",
   "version": "3.6.6"
  }
 },
 "nbformat": 4,
 "nbformat_minor": 2
}
