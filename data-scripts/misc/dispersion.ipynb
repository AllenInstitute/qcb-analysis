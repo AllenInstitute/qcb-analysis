{
 "cells": [
  {
   "cell_type": "code",
   "execution_count": 1,
   "metadata": {},
   "outputs": [],
   "source": [
    "import numpy as np\n",
    "import pandas as pd\n",
    "import matplotlib.pyplot as plt\n",
    "from scipy.spatial.distance import cdist\n",
    "from scipy.optimize import linear_sum_assignment"
   ]
  },
  {
   "cell_type": "code",
   "execution_count": 3,
   "metadata": {},
   "outputs": [
    {
     "data": {
      "text/plain": [
       "<matplotlib.image.AxesImage at 0x11ec9e9b0>"
      ]
     },
     "execution_count": 3,
     "metadata": {},
     "output_type": "execute_result"
    },
    {
     "data": {
      "image/png": "[encoded data removed]",
      "text/plain": [
       "<Figure size 432x288 with 4 Axes>"
      ]
     },
     "metadata": {
      "needs_background": "light"
     },
     "output_type": "display_data"
    }
   ],
   "source": [
    "dna_seg = np.zeros((32,32,32))\n",
    "dna_seg[10:20,10:20,10:20] = 1\n",
    "mem_seg = np.zeros((32,32,32))\n",
    "mem_seg[8:29,8:29,8:29] = 1\n",
    "cyt_seg = mem_seg.copy()\n",
    "cyt_seg[dna_seg==1] = 0\n",
    "str_seg = np.random.randint(2, size=32*32*32).reshape(32,32,32)\n",
    "str_seg[:20,:,:] = 0; str_seg[:,:20,:] = 0; str_seg[:,:,:20] = 0;\n",
    "str_seg = str_seg*cyt_seg\n",
    "fig, ax = plt.subplots(1,4)\n",
    "ax[0].imshow(dna_seg.mean(axis=0))\n",
    "ax[1].imshow(mem_seg.mean(axis=0))\n",
    "ax[2].imshow(cyt_seg.mean(axis=0))\n",
    "ax[3].imshow(str_seg.mean(axis=0))"
   ]
  },
  {
   "cell_type": "code",
   "execution_count": 10,
   "metadata": {},
   "outputs": [],
   "source": [
    "def get_dispersion_features_single_run(image1_seg, image2_seg, normalize=True, number_of_samples=25, repetitions=400):\n",
    "\n",
    "    coords = []\n",
    "    coords.append(np.nonzero(image1_seg))\n",
    "    coords.append(np.nonzero(image2_seg))\n",
    "    \n",
    "    for i in range(2):\n",
    "        coords[i] = np.asarray(coords[i]).T\n",
    "        #coords[i] = coords[i] + (np.random.rand(*coords[i].shape)-0.5)\n",
    "\n",
    "    features = []\n",
    "        \n",
    "    if coords[0].shape[0] > number_of_samples and coords[1].shape[0] > number_of_samples:\n",
    "\n",
    "        centroid = []\n",
    "        diameter = []\n",
    "        for i in range(2):\n",
    "            centroid.append(coords[i].mean(axis=0))\n",
    "            diameter.append(np.sqrt(((coords[i]-centroid[i])**2).sum(axis=1)).max())\n",
    "\n",
    "        print(centroid[0],centroid[1])\n",
    "        print(diameter[0],diameter[1])\n",
    "\n",
    "        # Finding the reference set as the one with largest\n",
    "        # diameter, usually the cytoplasm\n",
    "\n",
    "        reference = 0 if diameter[0] > diameter[1] else 1\n",
    "\n",
    "        # Shifting to the origin of reference set\n",
    "\n",
    "        for i in range(2):\n",
    "            coords[i] = coords[i] - centroid[reference]\n",
    "\n",
    "        # Normalization by the diameter\n",
    "\n",
    "        if normalize:\n",
    "            for i in range(2):\n",
    "                coords[i] /= diameter[reference]\n",
    "                \n",
    "        # Sampling points\n",
    "                \n",
    "        samples = []\n",
    "        for i in [reference,1-reference,reference]:\n",
    "            idx = np.random.choice(np.arange(coords[i].shape[0]), size=number_of_samples, replace=False)\n",
    "            samples.append(coords[i][idx,:])\n",
    "\n",
    "        fig, ax = plt.subplots(1,3,figsize=(15,5))\n",
    "        for i in range(3):\n",
    "            ax[i].plot(samples[i][:,1],samples[i][:,0],\"o\")\n",
    "            ax[i].set_xlim(-1,1)\n",
    "            ax[i].set_ylim(-1,1)\n",
    "        plt.show()\n",
    "\n",
    "        # Matrix of distance between sampled points\n",
    "\n",
    "        dist_matrix_str = cdist(samples[0], samples[1])\n",
    "        dist_matrix_ctl = cdist(samples[0], samples[2])\n",
    "\n",
    "        # Solving the bipartite graph matching\n",
    "\n",
    "        match_str_row, match_str_col = linear_sum_assignment(dist_matrix_str)\n",
    "        match_ctl_row, match_ctl_col = linear_sum_assignment(dist_matrix_ctl)\n",
    "\n",
    "        # View results\n",
    "\n",
    "        fig, ax = plt.subplots(1,2,sharey=True,figsize=(10,4))\n",
    "        ax[0].plot(samples[0][:,1],samples[0][:,0],\"ro\")\n",
    "        ax[0].plot(samples[1][:,1],samples[1][:,0],\"bo\")\n",
    "        ax[0].plot([samples[0][:,1],samples[1][match_str_col,1]],[samples[0][:,0],samples[1][match_str_col,0]],\"r-\")\n",
    "        ax[0].set_xlim(-1,1)\n",
    "        ax[0].set_ylim(-1,1)\n",
    "        ax[1].plot(samples[0][:,1],samples[0][:,0],\"ro\")\n",
    "        ax[1].plot(samples[2][:,1],samples[2][:,0],\"bo\")\n",
    "        ax[1].plot([samples[0][:,1],samples[2][match_ctl_col,1]],[samples[0][:,0],samples[2][match_ctl_col,0]],\"r-\")\n",
    "        ax[1].set_xlim(-1,1)\n",
    "        ax[1].set_ylim(-1,1)\n",
    "        plt.show()\n",
    "\n",
    "        # Solving the closest neighbor matching\n",
    "\n",
    "        match_str_local_col = np.argmin(dist_matrix_str,axis=1)\n",
    "        match_str_local_row = np.argmin(dist_matrix_str,axis=0)\n",
    "        match_ctl_local_col = np.argmin(dist_matrix_ctl,axis=1)\n",
    "        match_ctl_local_row = np.argmin(dist_matrix_ctl,axis=0)\n",
    "\n",
    "        # View results\n",
    "\n",
    "        fig, ax = plt.subplots(1,2,sharey=True,figsize=(10,4))\n",
    "        ax[0].plot(samples[0][:,1],samples[0][:,0],\"ro\")\n",
    "        ax[0].plot(samples[1][:,1],samples[1][:,0],\"bo\")\n",
    "        ax[0].plot([samples[0][:,1],samples[1][match_str_local_col,1]],[samples[0][:,0],samples[1][match_str_local_col,0]],\"r-\")\n",
    "        ax[0].plot([samples[0][match_str_local_row,1],samples[1][:,1]],[samples[0][match_str_local_row,0],samples[1][:,0]],\"b-\")\n",
    "        ax[0].set_xlim(-1,1)\n",
    "        ax[0].set_ylim(-1,1)\n",
    "        ax[1].plot(samples[0][:,1],samples[0][:,0],\"ro\")\n",
    "        ax[1].plot(samples[2][:,1],samples[2][:,0],\"bo\")\n",
    "        ax[1].plot([samples[0][:,1],samples[2][match_ctl_local_col,1]],[samples[0][:,0],samples[2][match_ctl_local_col,0]],\"r-\")\n",
    "        ax[1].plot([samples[0][match_ctl_local_row,1],samples[2][:,1]],[samples[0][match_ctl_local_row,0],samples[2][:,0]],\"b-\")\n",
    "        ax[1].set_xlim(-1,1)\n",
    "        ax[1].set_ylim(-1,1)\n",
    "        plt.show()\n",
    "\n",
    "        # Calculating cost dispersion values\n",
    "\n",
    "        cost_str_mean = dist_matrix_str[match_str_row, match_str_col].mean()\n",
    "        cost_ctl_mean = dist_matrix_ctl[match_ctl_row, match_ctl_col].mean()\n",
    "        cost_str_local_mean = np.mean([dist_matrix_str[np.arange(len(match_str_local_col)), match_str_local_col],dist_matrix_str[match_str_local_row, np.arange(len(match_str_local_col))]])\n",
    "        cost_ctl_local_mean = np.mean([dist_matrix_ctl[np.arange(len(match_ctl_local_col)), match_ctl_local_col],dist_matrix_ctl[match_ctl_local_row, np.arange(len(match_ctl_local_col))]])\n",
    "\n",
    "        cost_str_std = dist_matrix_str[match_str_row, match_str_col].std()\n",
    "        cost_ctl_std = dist_matrix_ctl[match_ctl_row, match_ctl_col].std()\n",
    "        cost_str_local_std = np.std([dist_matrix_str[np.arange(len(match_str_local_col)), match_str_local_col],dist_matrix_str[match_str_local_row, np.arange(len(match_str_local_col))]])\n",
    "        cost_ctl_local_std = np.std([dist_matrix_ctl[np.arange(len(match_ctl_local_col)), match_ctl_local_col],dist_matrix_ctl[match_ctl_local_row, np.arange(len(match_ctl_local_col))]])\n",
    "\n",
    "        print(\"Cost mean:\",cost_str_mean, cost_ctl_mean)\n",
    "        print(\"Cost mean:\",cost_str_local_mean, cost_ctl_local_mean)\n",
    "\n",
    "        print(\"Cost std:\",cost_str_std, cost_ctl_std)\n",
    "        print(\"Cost std:\",cost_str_local_std, cost_ctl_local_std)\n",
    "\n",
    "        features.append({\"cost\": cost_str_mean,\n",
    "                         \"cost_control\": cost_ctl_mean,\n",
    "                         \"cost_local\": cost_str_local_mean,\n",
    "                         \"cost_local_control\": cost_ctl_local_mean,\n",
    "                         \"dispersion\": cost_str_std,\n",
    "                         \"dispersion_control\": cost_ctl_std,\n",
    "                         \"dispersion_local\": cost_str_local_std,\n",
    "                         \"dispersion_local_control\": cost_ctl_local_std})\n",
    "        \n",
    "    else:\n",
    "\n",
    "        features.append({\"cost\": np.nan,\n",
    "                         \"cost_control\": np.nan,\n",
    "                         \"cost_local\": np.nan,\n",
    "                         \"cost_local_control\": np.nan,\n",
    "                         \"dispersion\": np.nan,\n",
    "                         \"dispersion_control\": np.nan,\n",
    "                         \"dispersion_local\": np.nan,\n",
    "                         \"dispersion_local_control\": np.nan})\n",
    "        \n",
    "    return features"
   ]
  },
  {
   "cell_type": "code",
   "execution_count": 11,
   "metadata": {},
   "outputs": [
    {
     "name": "stdout",
     "output_type": "stream",
     "text": [
      "[24.00569801 23.88034188 24.04558405] [18.42367752 18.42367752 18.42367752]\n",
      "6.968747160364581 18.05433906787992\n"
     ]
    },
    {
     "data": {
      "image/png": "[encoded data removed]",
      "text/plain": [
       "<Figure size 1080x360 with 3 Axes>"
      ]
     },
     "metadata": {
      "needs_background": "light"
     },
     "output_type": "display_data"
    },
    {
     "data": {
      "image/png": "[encoded data removed]",
      "text/plain": [
       "<Figure size 720x288 with 2 Axes>"
      ]
     },
     "metadata": {
      "needs_background": "light"
     },
     "output_type": "display_data"
    },
    {
     "data": {
      "image/png": "[encoded data removed]",
      "text/plain": [
       "<Figure size 720x288 with 2 Axes>"
      ]
     },
     "metadata": {
      "needs_background": "light"
     },
     "output_type": "display_data"
    },
    {
     "name": "stdout",
     "output_type": "stream",
     "text": [
      "Cost mean: 0.6539394945532763 0.26515783862883374\n",
      "Cost mean: 0.37622501208906217 0.21918498991599836\n",
      "Cost std: 0.28784811830613055 0.1312549025340794\n",
      "Cost std: 0.249628995487456 0.10021440321867074\n"
     ]
    }
   ],
   "source": [
    "df = get_dispersion_features_single_run(image1_seg=str_seg, image2_seg=cyt_seg, number_of_samples=30)"
   ]
  },
  {
   "cell_type": "code",
   "execution_count": 7,
   "metadata": {},
   "outputs": [],
   "source": [
    "def get_dispersion_features(image1_seg, image2_seg, normalize=True, number_of_samples=50, repetitions=400):\n",
    "\n",
    "    coords = []\n",
    "    coords.append(np.nonzero(image1_seg))\n",
    "    coords.append(np.nonzero(image2_seg))\n",
    "    \n",
    "    for i in range(2):\n",
    "        coords[i] = np.asarray(coords[i]).T\n",
    "        coords[i] = coords[i] + (np.random.rand(*coords[i].shape)-0.5)\n",
    "\n",
    "    features = []\n",
    "        \n",
    "    if coords[0].shape[0] > number_of_samples and coords[1].shape[0] > number_of_samples:\n",
    "\n",
    "        centroid = []\n",
    "        diameter = []\n",
    "        for i in range(2):\n",
    "            centroid.append(coords[i].mean(axis=0))\n",
    "            diameter.append(np.sqrt(((coords[i]-centroid[i])**2).sum(axis=1)).max())\n",
    "\n",
    "        # Finding the reference set as the one with largest\n",
    "        # diameter, usually the cytoplasm\n",
    "\n",
    "        reference = 0 if diameter[0] > diameter[1] else 1\n",
    "\n",
    "        # Shifting to the origin of reference set\n",
    "\n",
    "        for i in range(2):\n",
    "            coords[i] = coords[i] - centroid[reference]\n",
    "\n",
    "        # Normalization by the diameter\n",
    "\n",
    "        if normalize:\n",
    "            for i in range(2):\n",
    "                coords[i] /= diameter[reference]\n",
    "                \n",
    "        # Sampling points\n",
    "\n",
    "        for realization in range(repetitions):\n",
    "        \n",
    "            samples = []\n",
    "            for i in [reference,1-reference,reference]:\n",
    "                idx = np.random.choice(np.arange(coords[i].shape[0]), size=number_of_samples, replace=False)\n",
    "                samples.append(coords[i][idx,:])\n",
    "\n",
    "            # Matrix of distance between sampled points\n",
    "\n",
    "            dist_matrix_str = cdist(samples[0], samples[1])\n",
    "            dist_matrix_ctl = cdist(samples[0], samples[2])\n",
    "\n",
    "            # Solving the bipartite graph matching\n",
    "\n",
    "            match_str_row, match_str_col = linear_sum_assignment(dist_matrix_str)\n",
    "            match_ctl_row, match_ctl_col = linear_sum_assignment(dist_matrix_ctl)\n",
    "\n",
    "            # Solving the closest neighbor matching\n",
    "\n",
    "            match_str_local_col = np.argmin(dist_matrix_str,axis=1)\n",
    "            match_str_local_row = np.argmin(dist_matrix_str,axis=0)\n",
    "            match_ctl_local_col = np.argmin(dist_matrix_ctl,axis=1)\n",
    "            match_ctl_local_row = np.argmin(dist_matrix_ctl,axis=0)\n",
    "\n",
    "            # Calculating cost dispersion values\n",
    "\n",
    "            cost_str_mean = dist_matrix_str[match_str_row, match_str_col].mean()\n",
    "            cost_ctl_mean = dist_matrix_ctl[match_ctl_row, match_ctl_col].mean()\n",
    "            cost_str_local_mean = np.mean([dist_matrix_str[np.arange(len(match_str_local_col)), match_str_local_col],dist_matrix_str[match_str_local_row, np.arange(len(match_str_local_col))]])\n",
    "            cost_ctl_local_mean = np.mean([dist_matrix_ctl[np.arange(len(match_ctl_local_col)), match_ctl_local_col],dist_matrix_ctl[match_ctl_local_row, np.arange(len(match_ctl_local_col))]])\n",
    "\n",
    "            cost_str_std = dist_matrix_str[match_str_row, match_str_col].std()\n",
    "            cost_ctl_std = dist_matrix_ctl[match_ctl_row, match_ctl_col].std()\n",
    "            cost_str_local_std = np.std([dist_matrix_str[np.arange(len(match_str_local_col)), match_str_local_col],dist_matrix_str[match_str_local_row, np.arange(len(match_str_local_col))]])\n",
    "            cost_ctl_local_std = np.std([dist_matrix_ctl[np.arange(len(match_ctl_local_col)), match_ctl_local_col],dist_matrix_ctl[match_ctl_local_row, np.arange(len(match_ctl_local_col))]])\n",
    "\n",
    "            features.append({\"cost\": cost_str_mean,\n",
    "                             \"cost_local\": cost_str_local_mean,\n",
    "                             \"dispersion\": cost_str_std,\n",
    "                             \"dispersion_local\": cost_str_local_std,\n",
    "                             \"type\": \"data\"})\n",
    "            features.append({\"cost\": cost_ctl_mean,\n",
    "                             \"cost_local\": cost_ctl_local_mean,\n",
    "                             \"dispersion\": cost_ctl_std,\n",
    "                             \"dispersion_local\": cost_ctl_local_std,\n",
    "                             \"type\": \"control\"})\n",
    "\n",
    "        features = pd.DataFrame(features)\n",
    "        features = features.groupby(\"type\").mean()\n",
    "        features = features.reset_index()\n",
    "\n",
    "    else:\n",
    "\n",
    "        features.append({\"cost\": np.nan,\n",
    "                         \"cost_local\": np.nan,\n",
    "                         \"dispersion\": np.nan,\n",
    "                         \"dispersion_local\": np.nan,\n",
    "                         \"type\": \"data\"})\n",
    "        features.append({\"cost\": np.nan,\n",
    "                         \"cost_local\": np.nan,\n",
    "                         \"dispersion\": np.nan,\n",
    "                         \"dispersion_local\": np.nan,\n",
    "                         \"type\": \"control\"})\n",
    "        features = pd.DataFrame(features)\n",
    "\n",
    "    return features"
   ]
  },
  {
   "cell_type": "code",
   "execution_count": 8,
   "metadata": {},
   "outputs": [],
   "source": [
    "df = get_dispersion_features(image1_seg=str_seg, image2_seg=cyt_seg, number_of_samples=30, repetitions=2)"
   ]
  },
  {
   "cell_type": "code",
   "execution_count": 9,
   "metadata": {},
   "outputs": [
    {
     "data": {
      "text/html": [
       "<div>\n",
       "<style scoped>\n",
       "    .dataframe tbody tr th:only-of-type {\n",
       "        vertical-align: middle;\n",
       "    }\n",
       "\n",
       "    .dataframe tbody tr th {\n",
       "        vertical-align: top;\n",
       "    }\n",
       "\n",
       "    .dataframe thead th {\n",
       "        text-align: right;\n",
       "    }\n",
       "</style>\n",
       "<table border=\"1\" class=\"dataframe\">\n",
       "  <thead>\n",
       "    <tr style=\"text-align: right;\">\n",
       "      <th></th>\n",
       "      <th>type</th>\n",
       "      <th>cost</th>\n",
       "      <th>cost_local</th>\n",
       "      <th>dispersion</th>\n",
       "      <th>dispersion_local</th>\n",
       "    </tr>\n",
       "  </thead>\n",
       "  <tbody>\n",
       "    <tr>\n",
       "      <th>0</th>\n",
       "      <td>control</td>\n",
       "      <td>0.330261</td>\n",
       "      <td>0.257045</td>\n",
       "      <td>0.162844</td>\n",
       "      <td>0.115467</td>\n",
       "    </tr>\n",
       "    <tr>\n",
       "      <th>1</th>\n",
       "      <td>data</td>\n",
       "      <td>0.618226</td>\n",
       "      <td>0.395343</td>\n",
       "      <td>0.268023</td>\n",
       "      <td>0.229771</td>\n",
       "    </tr>\n",
       "  </tbody>\n",
       "</table>\n",
       "</div>"
      ],
      "text/plain": [
       "      type      cost  cost_local  dispersion  dispersion_local\n",
       "0  control  0.330261    0.257045    0.162844          0.115467\n",
       "1     data  0.618226    0.395343    0.268023          0.229771"
      ]
     },
     "execution_count": 9,
     "metadata": {},
     "output_type": "execute_result"
    }
   ],
   "source": [
    "df.head()"
   ]
  },
  {
   "cell_type": "code",
   "execution_count": null,
   "metadata": {},
   "outputs": [],
   "source": [
    "df_total = pd.DataFrame([])\n",
    "for ns in [10,20,30]:\n",
    "    for rep in [10,50,100,200,300,400]:\n",
    "        df = get_dispersion_features(image1_seg=str_seg, image2_seg=cyt_seg, number_of_samples=ns, repetitions=rep)\n",
    "        df[\"number_of_samples\"] = ns\n",
    "        df[\"repetitions\"] = rep\n",
    "        df_total = df_total.append(df)"
   ]
  },
  {
   "cell_type": "code",
   "execution_count": null,
   "metadata": {},
   "outputs": [],
   "source": [
    "df_total"
   ]
  },
  {
   "cell_type": "code",
   "execution_count": null,
   "metadata": {},
   "outputs": [],
   "source": [
    "groups = df_total.groupby([\"type\",\"number_of_samples\"])\n",
    "fig, ax = plt.subplots()\n",
    "for name, group in groups:\n",
    "    ax.plot(group.repetitions, group.dispersion, marker='o', linestyle='--', ms=6, label=name)\n",
    "ax.legend()\n",
    "plt.show()"
   ]
  },
  {
   "cell_type": "code",
   "execution_count": null,
   "metadata": {},
   "outputs": [],
   "source": []
  }
 ],
 "metadata": {
  "kernelspec": {
   "display_name": "Python 3",
   "language": "python",
   "name": "python3"
  },
  "language_info": {
   "codemirror_mode": {
    "name": "ipython",
    "version": 3
   },
   "file_extension": ".py",
   "mimetype": "text/x-python",
   "name": "python",
   "nbconvert_exporter": "python",
   "pygments_lexer": "ipython3",
   "version": "3.6.7"
  }
 },
 "nbformat": 4,
 "nbformat_minor": 2
}
