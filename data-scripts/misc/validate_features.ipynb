{
 "cells": [
  {
   "cell_type": "code",
   "execution_count": 2,
   "metadata": {},
   "outputs": [],
   "source": [
    "import numpy as np\n",
    "import pandas as pd\n",
    "from skimage import io as skio\n",
    "from aicsfeature import extractor\n",
    "\n",
    "import matplotlib.pyplot as plt\n",
    "\n",
    "from skimage.transform import resize\n",
    "\n",
    "from matplotlib.offsetbox import OffsetImage, AnnotationBbox\n",
    "\n",
    "def getImage(seg, zoom=0.1):\n",
    "    return OffsetImage(seg.max(axis=0),zoom=zoom)\n",
    "\n",
    "def display_time_series(result, variable, imgs, channel=(0,1)):\n",
    "    x = list(range(result.shape[0]))\n",
    "    y = result[variable]\n",
    "\n",
    "    fig, ax = plt.subplots(1,1, figsize=(8,4))\n",
    "    ax.plot(x, y, \"-o\")\n",
    "    \n",
    "    artists = []\n",
    "    for x0, y0, img in zip(x, y, imgs):\n",
    "        ab = AnnotationBbox(getImage(img[\"data\"][channel[0]][\"img\"][channel[1]]), (x0, y0), frameon=False)\n",
    "        artists.append(ax.add_artist(ab))\n",
    "    plt.ylabel(variable)\n",
    "    plt.show()"
   ]
  },
  {
   "cell_type": "markdown",
   "metadata": {},
   "source": [
    "### Introduction\n",
    "\n",
    "This notebook is used to validate the aics-ferature module. This module implements many hand-crafted features used in different projects:\n",
    "\n",
    "* QCB\n",
    "* Integrated nucleus\n",
    "\n",
    "### Load data\n",
    "\n",
    "We used the average cell data created in the mitotic alignment project. This data represents a simple and standardize set of shapes that make the features more interpretable."
   ]
  },
  {
   "cell_type": "code",
   "execution_count": 3,
   "metadata": {},
   "outputs": [],
   "source": [
    "STAGES = [\"M1\",\"M2\",\"M3\",\"M4\",\"M5\",\"M6\",\"M7\"]\n",
    "\n",
    "dataset = []\n",
    "for stage in STAGES:\n",
    "    img_seg = skio.imread(\"/home/matheus.viana/shared/forGrahamAlignMitotic/aligned_by_dna_maxp/\"+stage+\"/avg_cell_seg.ome.tif\")\n",
    "    img_raw = skio.imread(\"/home/matheus.viana/shared/forGrahamAlignMitotic/aligned_by_dna_maxp/\"+stage+\"/avg_cell_raw.ome.tif\")\n",
    "    img_seg[img_seg<7] = 0\n",
    "    img_seg[img_seg>0] = 1\n",
    "    img_raw = img_raw * img_seg\n",
    "\n",
    "    img_seg = np.swapaxes(np.swapaxes(np.swapaxes(img_seg,2,3),1,2),0,1)\n",
    "    img_raw = np.swapaxes(np.swapaxes(np.swapaxes(img_raw,2,3),1,2),0,1)\n",
    "    \n",
    "    imgs = []\n",
    "    for seg, raw, channel in zip(img_seg,img_raw,[\"cell\",\"dna\",\"structure\"]):\n",
    "       \n",
    "        new_z = np.int((0.29/0.108)*seg.shape[0])\n",
    "        new_y = seg.shape[1]\n",
    "        new_x = seg.shape[2]\n",
    "\n",
    "        seg = resize(image = seg, output_shape = (new_z, new_y, new_x), order = 0, preserve_range = True, anti_aliasing = False, mode = \"constant\")\n",
    "        raw = resize(image = raw, output_shape = (new_z, new_y, new_x), order = 0, preserve_range = True, anti_aliasing = False, mode = \"constant\")\n",
    "\n",
    "        imgs.append({\"channel\": channel, \"img\": (raw,seg)})\n",
    "        \n",
    "    dataset.append({\"stage\": stage, \"data\": imgs})"
   ]
  },
  {
   "cell_type": "markdown",
   "metadata": {},
   "source": [
    "We load the aics-feature module everytime there is a change in the package without having to reload the data"
   ]
  },
  {
   "cell_type": "code",
   "execution_count": 62,
   "metadata": {},
   "outputs": [
    {
     "data": {
      "text/plain": [
       "<module 'aicsfeature.extractor' from '/home/matheus.viana/sources/aics-feature/aicsfeature/extractor.py'>"
      ]
     },
     "execution_count": 62,
     "metadata": {},
     "output_type": "execute_result"
    }
   ],
   "source": [
    "import importlib\n",
    "importlib.reload(extractor)"
   ]
  },
  {
   "cell_type": "markdown",
   "metadata": {},
   "source": [
    "### Shape features"
   ]
  },
  {
   "cell_type": "code",
   "execution_count": 34,
   "metadata": {},
   "outputs": [
    {
     "data": {
      "text/html": [
       "<div>\n",
       "<style scoped>\n",
       "    .dataframe tbody tr th:only-of-type {\n",
       "        vertical-align: middle;\n",
       "    }\n",
       "\n",
       "    .dataframe tbody tr th {\n",
       "        vertical-align: top;\n",
       "    }\n",
       "\n",
       "    .dataframe thead th {\n",
       "        text-align: right;\n",
       "    }\n",
       "</style>\n",
       "<table border=\"1\" class=\"dataframe\">\n",
       "  <thead>\n",
       "    <tr style=\"text-align: right;\">\n",
       "      <th></th>\n",
       "      <th>shape_1st_axis_length</th>\n",
       "      <th>shape_1st_axis_x</th>\n",
       "      <th>shape_1st_axis_y</th>\n",
       "      <th>shape_1st_axis_z</th>\n",
       "      <th>shape_1st_eigenvalue</th>\n",
       "      <th>shape_2nd_axis_length</th>\n",
       "      <th>shape_2nd_axis_x</th>\n",
       "      <th>shape_2nd_axis_y</th>\n",
       "      <th>shape_2nd_axis_z</th>\n",
       "      <th>shape_2nd_eigenvalue</th>\n",
       "      <th>shape_3rd_axis_length</th>\n",
       "      <th>shape_3rd_axis_x</th>\n",
       "      <th>shape_3rd_axis_y</th>\n",
       "      <th>shape_3rd_axis_z</th>\n",
       "      <th>shape_3rd_eigenvalue</th>\n",
       "      <th>shape_equator_eccentricity</th>\n",
       "      <th>shape_meridional_eccentricity</th>\n",
       "      <th>volume</th>\n",
       "    </tr>\n",
       "  </thead>\n",
       "  <tbody>\n",
       "    <tr>\n",
       "      <th>0</th>\n",
       "      <td>216.159225</td>\n",
       "      <td>0.980818</td>\n",
       "      <td>0.192331</td>\n",
       "      <td>0.031698</td>\n",
       "      <td>403.139912</td>\n",
       "      <td>196.407939</td>\n",
       "      <td>0.193352</td>\n",
       "      <td>-0.980572</td>\n",
       "      <td>-0.033070</td>\n",
       "      <td>1857.329423</td>\n",
       "      <td>85.101927</td>\n",
       "      <td>-0.024722</td>\n",
       "      <td>-0.038564</td>\n",
       "      <td>0.998950</td>\n",
       "      <td>2150.730998</td>\n",
       "      <td>0.217054</td>\n",
       "      <td>0.863581</td>\n",
       "      <td>1816909</td>\n",
       "    </tr>\n",
       "    <tr>\n",
       "      <th>1</th>\n",
       "      <td>229.316782</td>\n",
       "      <td>0.992930</td>\n",
       "      <td>-0.107103</td>\n",
       "      <td>0.051167</td>\n",
       "      <td>418.023960</td>\n",
       "      <td>176.588453</td>\n",
       "      <td>-0.105522</td>\n",
       "      <td>-0.993880</td>\n",
       "      <td>-0.032672</td>\n",
       "      <td>1348.826599</td>\n",
       "      <td>86.354164</td>\n",
       "      <td>-0.054354</td>\n",
       "      <td>-0.027042</td>\n",
       "      <td>0.998156</td>\n",
       "      <td>2555.915913</td>\n",
       "      <td>0.309917</td>\n",
       "      <td>0.527727</td>\n",
       "      <td>1722373</td>\n",
       "    </tr>\n",
       "    <tr>\n",
       "      <th>2</th>\n",
       "      <td>202.467400</td>\n",
       "      <td>0.771270</td>\n",
       "      <td>-0.636506</td>\n",
       "      <td>0.001741</td>\n",
       "      <td>506.974060</td>\n",
       "      <td>190.026612</td>\n",
       "      <td>-0.636257</td>\n",
       "      <td>-0.771039</td>\n",
       "      <td>-0.025987</td>\n",
       "      <td>1780.881742</td>\n",
       "      <td>97.026762</td>\n",
       "      <td>-0.017883</td>\n",
       "      <td>-0.018935</td>\n",
       "      <td>0.999661</td>\n",
       "      <td>1957.394220</td>\n",
       "      <td>0.284676</td>\n",
       "      <td>0.909823</td>\n",
       "      <td>1931543</td>\n",
       "    </tr>\n",
       "    <tr>\n",
       "      <th>3</th>\n",
       "      <td>238.647231</td>\n",
       "      <td>0.999692</td>\n",
       "      <td>0.007630</td>\n",
       "      <td>-0.023605</td>\n",
       "      <td>494.126367</td>\n",
       "      <td>183.984991</td>\n",
       "      <td>-0.007589</td>\n",
       "      <td>0.999970</td>\n",
       "      <td>0.001818</td>\n",
       "      <td>1699.006444</td>\n",
       "      <td>98.041266</td>\n",
       "      <td>0.023619</td>\n",
       "      <td>-0.001638</td>\n",
       "      <td>0.999720</td>\n",
       "      <td>2532.120224</td>\n",
       "      <td>0.290833</td>\n",
       "      <td>0.670982</td>\n",
       "      <td>2134694</td>\n",
       "    </tr>\n",
       "    <tr>\n",
       "      <th>4</th>\n",
       "      <td>219.452766</td>\n",
       "      <td>0.999389</td>\n",
       "      <td>0.011454</td>\n",
       "      <td>-0.033036</td>\n",
       "      <td>484.180708</td>\n",
       "      <td>175.778188</td>\n",
       "      <td>-0.010853</td>\n",
       "      <td>0.999773</td>\n",
       "      <td>0.018334</td>\n",
       "      <td>1630.387767</td>\n",
       "      <td>94.487489</td>\n",
       "      <td>0.033238</td>\n",
       "      <td>-0.017964</td>\n",
       "      <td>0.999286</td>\n",
       "      <td>2510.137546</td>\n",
       "      <td>0.296973</td>\n",
       "      <td>0.649521</td>\n",
       "      <td>2056269</td>\n",
       "    </tr>\n",
       "  </tbody>\n",
       "</table>\n",
       "</div>"
      ],
      "text/plain": [
       "   shape_1st_axis_length  shape_1st_axis_x  shape_1st_axis_y  \\\n",
       "0             216.159225          0.980818          0.192331   \n",
       "1             229.316782          0.992930         -0.107103   \n",
       "2             202.467400          0.771270         -0.636506   \n",
       "3             238.647231          0.999692          0.007630   \n",
       "4             219.452766          0.999389          0.011454   \n",
       "\n",
       "   shape_1st_axis_z  shape_1st_eigenvalue  shape_2nd_axis_length  \\\n",
       "0          0.031698            403.139912             196.407939   \n",
       "1          0.051167            418.023960             176.588453   \n",
       "2          0.001741            506.974060             190.026612   \n",
       "3         -0.023605            494.126367             183.984991   \n",
       "4         -0.033036            484.180708             175.778188   \n",
       "\n",
       "   shape_2nd_axis_x  shape_2nd_axis_y  shape_2nd_axis_z  shape_2nd_eigenvalue  \\\n",
       "0          0.193352         -0.980572         -0.033070           1857.329423   \n",
       "1         -0.105522         -0.993880         -0.032672           1348.826599   \n",
       "2         -0.636257         -0.771039         -0.025987           1780.881742   \n",
       "3         -0.007589          0.999970          0.001818           1699.006444   \n",
       "4         -0.010853          0.999773          0.018334           1630.387767   \n",
       "\n",
       "   shape_3rd_axis_length  shape_3rd_axis_x  shape_3rd_axis_y  \\\n",
       "0              85.101927         -0.024722         -0.038564   \n",
       "1              86.354164         -0.054354         -0.027042   \n",
       "2              97.026762         -0.017883         -0.018935   \n",
       "3              98.041266          0.023619         -0.001638   \n",
       "4              94.487489          0.033238         -0.017964   \n",
       "\n",
       "   shape_3rd_axis_z  shape_3rd_eigenvalue  shape_equator_eccentricity  \\\n",
       "0          0.998950           2150.730998                    0.217054   \n",
       "1          0.998156           2555.915913                    0.309917   \n",
       "2          0.999661           1957.394220                    0.284676   \n",
       "3          0.999720           2532.120224                    0.290833   \n",
       "4          0.999286           2510.137546                    0.296973   \n",
       "\n",
       "   shape_meridional_eccentricity   volume  \n",
       "0                       0.863581  1816909  \n",
       "1                       0.527727  1722373  \n",
       "2                       0.909823  1931543  \n",
       "3                       0.670982  2134694  \n",
       "4                       0.649521  2056269  "
      ]
     },
     "execution_count": 34,
     "metadata": {},
     "output_type": "execute_result"
    }
   ],
   "source": [
    "result = []\n",
    "for i, stage in enumerate(STAGES):\n",
    "    f = extractor.get_shape_features(seg=dataset[i][\"data\"][0][\"img\"][1])\n",
    "    result.append(f)\n",
    "result = pd.DataFrame(result)\n",
    "result.head()"
   ]
  },
  {
   "cell_type": "code",
   "execution_count": 35,
   "metadata": {},
   "outputs": [
    {
     "data": {
      "image/png": "[encoded data removed]",
      "text/plain": [
       "<Figure size 576x288 with 1 Axes>"
      ]
     },
     "metadata": {
      "needs_background": "light"
     },
     "output_type": "display_data"
    },
    {
     "data": {
      "image/png": "[encoded data removed]",
      "text/plain": [
       "<Figure size 576x288 with 1 Axes>"
      ]
     },
     "metadata": {
      "needs_background": "light"
     },
     "output_type": "display_data"
    }
   ],
   "source": [
    "display_time_series(result=result, variable=\"volume\", imgs=dataset, channel=(0,1))\n",
    "display_time_series(result=result, variable=\"shape_meridional_eccentricity\", imgs=dataset, channel=(0,1))"
   ]
  },
  {
   "cell_type": "markdown",
   "metadata": {},
   "source": [
    "### Roundness Features"
   ]
  },
  {
   "cell_type": "code",
   "execution_count": 37,
   "metadata": {},
   "outputs": [
    {
     "data": {
      "text/html": [
       "<div>\n",
       "<style scoped>\n",
       "    .dataframe tbody tr th:only-of-type {\n",
       "        vertical-align: middle;\n",
       "    }\n",
       "\n",
       "    .dataframe tbody tr th {\n",
       "        vertical-align: top;\n",
       "    }\n",
       "\n",
       "    .dataframe thead th {\n",
       "        text-align: right;\n",
       "    }\n",
       "</style>\n",
       "<table border=\"1\" class=\"dataframe\">\n",
       "  <thead>\n",
       "    <tr style=\"text-align: right;\">\n",
       "      <th></th>\n",
       "      <th>roundness_roughness</th>\n",
       "      <th>roundness_roughness_xy</th>\n",
       "      <th>roundness_roughness_xz</th>\n",
       "      <th>roundness_roughness_yz</th>\n",
       "      <th>roundness_sphericity</th>\n",
       "      <th>surface_area</th>\n",
       "    </tr>\n",
       "  </thead>\n",
       "  <tbody>\n",
       "    <tr>\n",
       "      <th>0</th>\n",
       "      <td>16.485562</td>\n",
       "      <td>5.705120</td>\n",
       "      <td>20.859548</td>\n",
       "      <td>18.449089</td>\n",
       "      <td>0.772711</td>\n",
       "      <td>139848.0</td>\n",
       "    </tr>\n",
       "    <tr>\n",
       "      <th>1</th>\n",
       "      <td>17.276638</td>\n",
       "      <td>11.733963</td>\n",
       "      <td>24.882169</td>\n",
       "      <td>14.173517</td>\n",
       "      <td>0.784368</td>\n",
       "      <td>132950.0</td>\n",
       "    </tr>\n",
       "    <tr>\n",
       "      <th>2</th>\n",
       "      <td>14.000638</td>\n",
       "      <td>3.349368</td>\n",
       "      <td>17.548005</td>\n",
       "      <td>15.750752</td>\n",
       "      <td>0.811579</td>\n",
       "      <td>138692.0</td>\n",
       "    </tr>\n",
       "    <tr>\n",
       "      <th>3</th>\n",
       "      <td>16.460874</td>\n",
       "      <td>8.062446</td>\n",
       "      <td>23.207344</td>\n",
       "      <td>15.768139</td>\n",
       "      <td>0.823874</td>\n",
       "      <td>146038.0</td>\n",
       "    </tr>\n",
       "    <tr>\n",
       "      <th>4</th>\n",
       "      <td>16.291492</td>\n",
       "      <td>7.610704</td>\n",
       "      <td>21.392060</td>\n",
       "      <td>13.919960</td>\n",
       "      <td>0.846261</td>\n",
       "      <td>138672.0</td>\n",
       "    </tr>\n",
       "  </tbody>\n",
       "</table>\n",
       "</div>"
      ],
      "text/plain": [
       "   roundness_roughness  roundness_roughness_xy  roundness_roughness_xz  \\\n",
       "0            16.485562                5.705120               20.859548   \n",
       "1            17.276638               11.733963               24.882169   \n",
       "2            14.000638                3.349368               17.548005   \n",
       "3            16.460874                8.062446               23.207344   \n",
       "4            16.291492                7.610704               21.392060   \n",
       "\n",
       "   roundness_roughness_yz  roundness_sphericity  surface_area  \n",
       "0               18.449089              0.772711      139848.0  \n",
       "1               14.173517              0.784368      132950.0  \n",
       "2               15.750752              0.811579      138692.0  \n",
       "3               15.768139              0.823874      146038.0  \n",
       "4               13.919960              0.846261      138672.0  "
      ]
     },
     "execution_count": 37,
     "metadata": {},
     "output_type": "execute_result"
    }
   ],
   "source": [
    "result = []\n",
    "for i, stage in enumerate(STAGES):\n",
    "    f = extractor.get_roundness_features(seg=dataset[i][\"data\"][0][\"img\"][1])\n",
    "    result.append(f)\n",
    "result = pd.DataFrame(result)\n",
    "result.head()"
   ]
  },
  {
   "cell_type": "code",
   "execution_count": 38,
   "metadata": {},
   "outputs": [
    {
     "data": {
      "image/png": "[encoded data removed]",
      "text/plain": [
       "<Figure size 576x288 with 1 Axes>"
      ]
     },
     "metadata": {
      "needs_background": "light"
     },
     "output_type": "display_data"
    }
   ],
   "source": [
    "display_time_series(result=result, variable=\"roundness_roughness\", imgs=dataset, channel=(0,1))"
   ]
  },
  {
   "cell_type": "markdown",
   "metadata": {},
   "source": [
    "### Position Features"
   ]
  },
  {
   "cell_type": "code",
   "execution_count": 39,
   "metadata": {},
   "outputs": [
    {
     "data": {
      "text/html": [
       "<div>\n",
       "<style scoped>\n",
       "    .dataframe tbody tr th:only-of-type {\n",
       "        vertical-align: middle;\n",
       "    }\n",
       "\n",
       "    .dataframe tbody tr th {\n",
       "        vertical-align: top;\n",
       "    }\n",
       "\n",
       "    .dataframe thead th {\n",
       "        text-align: right;\n",
       "    }\n",
       "</style>\n",
       "<table border=\"1\" class=\"dataframe\">\n",
       "  <thead>\n",
       "    <tr style=\"text-align: right;\">\n",
       "      <th></th>\n",
       "      <th>position_highest_z</th>\n",
       "      <th>position_lowest_z</th>\n",
       "      <th>position_x_centroid</th>\n",
       "      <th>position_y_centroid</th>\n",
       "      <th>position_z_centroid</th>\n",
       "    </tr>\n",
       "  </thead>\n",
       "  <tbody>\n",
       "    <tr>\n",
       "      <th>0</th>\n",
       "      <td>216</td>\n",
       "      <td>134</td>\n",
       "      <td>256.150715</td>\n",
       "      <td>255.787798</td>\n",
       "      <td>175.811805</td>\n",
       "    </tr>\n",
       "    <tr>\n",
       "      <th>1</th>\n",
       "      <td>213</td>\n",
       "      <td>131</td>\n",
       "      <td>258.993520</td>\n",
       "      <td>256.339655</td>\n",
       "      <td>174.198445</td>\n",
       "    </tr>\n",
       "    <tr>\n",
       "      <th>2</th>\n",
       "      <td>219</td>\n",
       "      <td>123</td>\n",
       "      <td>256.508478</td>\n",
       "      <td>253.358139</td>\n",
       "      <td>174.126240</td>\n",
       "    </tr>\n",
       "    <tr>\n",
       "      <th>3</th>\n",
       "      <td>219</td>\n",
       "      <td>123</td>\n",
       "      <td>258.244060</td>\n",
       "      <td>256.615690</td>\n",
       "      <td>174.038566</td>\n",
       "    </tr>\n",
       "    <tr>\n",
       "      <th>4</th>\n",
       "      <td>221</td>\n",
       "      <td>126</td>\n",
       "      <td>258.191720</td>\n",
       "      <td>255.013820</td>\n",
       "      <td>173.824615</td>\n",
       "    </tr>\n",
       "  </tbody>\n",
       "</table>\n",
       "</div>"
      ],
      "text/plain": [
       "   position_highest_z  position_lowest_z  position_x_centroid  \\\n",
       "0                 216                134           256.150715   \n",
       "1                 213                131           258.993520   \n",
       "2                 219                123           256.508478   \n",
       "3                 219                123           258.244060   \n",
       "4                 221                126           258.191720   \n",
       "\n",
       "   position_y_centroid  position_z_centroid  \n",
       "0           255.787798           175.811805  \n",
       "1           256.339655           174.198445  \n",
       "2           253.358139           174.126240  \n",
       "3           256.615690           174.038566  \n",
       "4           255.013820           173.824615  "
      ]
     },
     "execution_count": 39,
     "metadata": {},
     "output_type": "execute_result"
    }
   ],
   "source": [
    "result = []\n",
    "for i, stage in enumerate(STAGES):\n",
    "    f = extractor.get_position_features(seg=dataset[i][\"data\"][0][\"img\"][1])\n",
    "    result.append(f)\n",
    "result = pd.DataFrame(result)\n",
    "result.head()"
   ]
  },
  {
   "cell_type": "code",
   "execution_count": 40,
   "metadata": {},
   "outputs": [
    {
     "data": {
      "image/png": "[encoded data removed]",
      "text/plain": [
       "<Figure size 576x288 with 1 Axes>"
      ]
     },
     "metadata": {
      "needs_background": "light"
     },
     "output_type": "display_data"
    }
   ],
   "source": [
    "display_time_series(result=result, variable=\"position_lowest_z\", imgs=dataset, channel=(0,1))"
   ]
  },
  {
   "cell_type": "markdown",
   "metadata": {},
   "source": [
    "### Intensity Features"
   ]
  },
  {
   "cell_type": "code",
   "execution_count": 42,
   "metadata": {},
   "outputs": [
    {
     "data": {
      "text/html": [
       "<div>\n",
       "<style scoped>\n",
       "    .dataframe tbody tr th:only-of-type {\n",
       "        vertical-align: middle;\n",
       "    }\n",
       "\n",
       "    .dataframe tbody tr th {\n",
       "        vertical-align: top;\n",
       "    }\n",
       "\n",
       "    .dataframe thead th {\n",
       "        text-align: right;\n",
       "    }\n",
       "</style>\n",
       "<table border=\"1\" class=\"dataframe\">\n",
       "  <thead>\n",
       "    <tr style=\"text-align: right;\">\n",
       "      <th></th>\n",
       "      <th>intensity_entropy</th>\n",
       "      <th>intensity_max</th>\n",
       "      <th>intensity_mean</th>\n",
       "      <th>intensity_median</th>\n",
       "      <th>intensity_mode</th>\n",
       "      <th>intensity_std</th>\n",
       "      <th>intensity_sum</th>\n",
       "    </tr>\n",
       "  </thead>\n",
       "  <tbody>\n",
       "    <tr>\n",
       "      <th>0</th>\n",
       "      <td>6.338711</td>\n",
       "      <td>4846</td>\n",
       "      <td>4404.436130</td>\n",
       "      <td>4419.0</td>\n",
       "      <td>4502</td>\n",
       "      <td>141.368251</td>\n",
       "      <td>3314201650</td>\n",
       "    </tr>\n",
       "    <tr>\n",
       "      <th>1</th>\n",
       "      <td>6.444086</td>\n",
       "      <td>6200</td>\n",
       "      <td>5537.818091</td>\n",
       "      <td>5544.0</td>\n",
       "      <td>5566</td>\n",
       "      <td>154.596285</td>\n",
       "      <td>2176417888</td>\n",
       "    </tr>\n",
       "    <tr>\n",
       "      <th>2</th>\n",
       "      <td>6.793554</td>\n",
       "      <td>5806</td>\n",
       "      <td>4934.550147</td>\n",
       "      <td>4931.0</td>\n",
       "      <td>4925</td>\n",
       "      <td>220.466062</td>\n",
       "      <td>959424585</td>\n",
       "    </tr>\n",
       "    <tr>\n",
       "      <th>3</th>\n",
       "      <td>7.537117</td>\n",
       "      <td>8009</td>\n",
       "      <td>6326.972249</td>\n",
       "      <td>6304.0</td>\n",
       "      <td>6320</td>\n",
       "      <td>473.268126</td>\n",
       "      <td>1246653958</td>\n",
       "    </tr>\n",
       "    <tr>\n",
       "      <th>4</th>\n",
       "      <td>7.583771</td>\n",
       "      <td>8182</td>\n",
       "      <td>6682.218060</td>\n",
       "      <td>6669.0</td>\n",
       "      <td>6516</td>\n",
       "      <td>493.585050</td>\n",
       "      <td>1337425898</td>\n",
       "    </tr>\n",
       "  </tbody>\n",
       "</table>\n",
       "</div>"
      ],
      "text/plain": [
       "   intensity_entropy  intensity_max  intensity_mean  intensity_median  \\\n",
       "0           6.338711           4846     4404.436130            4419.0   \n",
       "1           6.444086           6200     5537.818091            5544.0   \n",
       "2           6.793554           5806     4934.550147            4931.0   \n",
       "3           7.537117           8009     6326.972249            6304.0   \n",
       "4           7.583771           8182     6682.218060            6669.0   \n",
       "\n",
       "   intensity_mode  intensity_std  intensity_sum  \n",
       "0            4502     141.368251     3314201650  \n",
       "1            5566     154.596285     2176417888  \n",
       "2            4925     220.466062      959424585  \n",
       "3            6320     473.268126     1246653958  \n",
       "4            6516     493.585050     1337425898  "
      ]
     },
     "execution_count": 42,
     "metadata": {},
     "output_type": "execute_result"
    }
   ],
   "source": [
    "result = []\n",
    "for i, stage in enumerate(STAGES):\n",
    "    f = extractor.get_intensity_features(img=dataset[i][\"data\"][1][\"img\"][0].astype(np.uint16))\n",
    "    result.append(f)\n",
    "result = pd.DataFrame(result)\n",
    "result.head()"
   ]
  },
  {
   "cell_type": "code",
   "execution_count": 43,
   "metadata": {},
   "outputs": [
    {
     "data": {
      "image/png": "[encoded data removed]",
      "text/plain": [
       "<Figure size 576x288 with 1 Axes>"
      ]
     },
     "metadata": {
      "needs_background": "light"
     },
     "output_type": "display_data"
    }
   ],
   "source": [
    "display_time_series(result=result, variable=\"intensity_entropy\", imgs=dataset, channel=(1,1))"
   ]
  },
  {
   "cell_type": "markdown",
   "metadata": {},
   "source": [
    "### Skeleton Features"
   ]
  },
  {
   "cell_type": "code",
   "execution_count": 46,
   "metadata": {},
   "outputs": [
    {
     "data": {
      "text/html": [
       "<div>\n",
       "<style scoped>\n",
       "    .dataframe tbody tr th:only-of-type {\n",
       "        vertical-align: middle;\n",
       "    }\n",
       "\n",
       "    .dataframe tbody tr th {\n",
       "        vertical-align: top;\n",
       "    }\n",
       "\n",
       "    .dataframe thead th {\n",
       "        text-align: right;\n",
       "    }\n",
       "</style>\n",
       "<table border=\"1\" class=\"dataframe\">\n",
       "  <thead>\n",
       "    <tr style=\"text-align: right;\">\n",
       "      <th></th>\n",
       "      <th>skeleton_deg0_prop</th>\n",
       "      <th>skeleton_deg1_prop</th>\n",
       "      <th>skeleton_deg3_prop</th>\n",
       "      <th>skeleton_deg4p_prop</th>\n",
       "      <th>skeleton_degree_mean</th>\n",
       "      <th>skeleton_edges_number</th>\n",
       "      <th>skeleton_nodes_number</th>\n",
       "      <th>skeleton_voxels_number</th>\n",
       "    </tr>\n",
       "  </thead>\n",
       "  <tbody>\n",
       "    <tr>\n",
       "      <th>0</th>\n",
       "      <td>0.000216</td>\n",
       "      <td>0.041261</td>\n",
       "      <td>0.078926</td>\n",
       "      <td>0.879597</td>\n",
       "      <td>9.731374</td>\n",
       "      <td>383022</td>\n",
       "      <td>78719.0</td>\n",
       "      <td>110058</td>\n",
       "    </tr>\n",
       "    <tr>\n",
       "      <th>1</th>\n",
       "      <td>0.000150</td>\n",
       "      <td>0.047599</td>\n",
       "      <td>0.106564</td>\n",
       "      <td>0.845687</td>\n",
       "      <td>9.584276</td>\n",
       "      <td>350357</td>\n",
       "      <td>73111.0</td>\n",
       "      <td>106482</td>\n",
       "    </tr>\n",
       "    <tr>\n",
       "      <th>2</th>\n",
       "      <td>0.000198</td>\n",
       "      <td>0.049934</td>\n",
       "      <td>0.175031</td>\n",
       "      <td>0.774837</td>\n",
       "      <td>9.514991</td>\n",
       "      <td>264198</td>\n",
       "      <td>55533.0</td>\n",
       "      <td>88848</td>\n",
       "    </tr>\n",
       "    <tr>\n",
       "      <th>3</th>\n",
       "      <td>0.000225</td>\n",
       "      <td>0.054629</td>\n",
       "      <td>0.204151</td>\n",
       "      <td>0.740995</td>\n",
       "      <td>9.444340</td>\n",
       "      <td>272549</td>\n",
       "      <td>57717.0</td>\n",
       "      <td>98835</td>\n",
       "    </tr>\n",
       "    <tr>\n",
       "      <th>4</th>\n",
       "      <td>0.000119</td>\n",
       "      <td>0.026595</td>\n",
       "      <td>0.137358</td>\n",
       "      <td>0.835929</td>\n",
       "      <td>9.503557</td>\n",
       "      <td>400047</td>\n",
       "      <td>84189.0</td>\n",
       "      <td>120453</td>\n",
       "    </tr>\n",
       "  </tbody>\n",
       "</table>\n",
       "</div>"
      ],
      "text/plain": [
       "   skeleton_deg0_prop  skeleton_deg1_prop  skeleton_deg3_prop  \\\n",
       "0            0.000216            0.041261            0.078926   \n",
       "1            0.000150            0.047599            0.106564   \n",
       "2            0.000198            0.049934            0.175031   \n",
       "3            0.000225            0.054629            0.204151   \n",
       "4            0.000119            0.026595            0.137358   \n",
       "\n",
       "   skeleton_deg4p_prop  skeleton_degree_mean  skeleton_edges_number  \\\n",
       "0             0.879597              9.731374                 383022   \n",
       "1             0.845687              9.584276                 350357   \n",
       "2             0.774837              9.514991                 264198   \n",
       "3             0.740995              9.444340                 272549   \n",
       "4             0.835929              9.503557                 400047   \n",
       "\n",
       "   skeleton_nodes_number  skeleton_voxels_number  \n",
       "0                78719.0                  110058  \n",
       "1                73111.0                  106482  \n",
       "2                55533.0                   88848  \n",
       "3                57717.0                   98835  \n",
       "4                84189.0                  120453  "
      ]
     },
     "execution_count": 46,
     "metadata": {},
     "output_type": "execute_result"
    }
   ],
   "source": [
    "result = []\n",
    "for i, stage in enumerate(STAGES):\n",
    "    f, _ = extractor.get_skeleton_features(seg=dataset[i][\"data\"][2][\"img\"][0])\n",
    "    result.append(f)\n",
    "result = pd.DataFrame(result)\n",
    "result.head()"
   ]
  },
  {
   "cell_type": "code",
   "execution_count": 47,
   "metadata": {},
   "outputs": [
    {
     "data": {
      "image/png": "[encoded data removed]",
      "text/plain": [
       "<Figure size 576x288 with 1 Axes>"
      ]
     },
     "metadata": {
      "needs_background": "light"
     },
     "output_type": "display_data"
    }
   ],
   "source": [
    "display_time_series(result=result, variable=\"skeleton_nodes_number\", imgs=dataset, channel=(2,1))"
   ]
  },
  {
   "cell_type": "markdown",
   "metadata": {},
   "source": [
    "### Texture Features"
   ]
  },
  {
   "cell_type": "code",
   "execution_count": 26,
   "metadata": {},
   "outputs": [
    {
     "data": {
      "text/html": [
       "<div>\n",
       "<style scoped>\n",
       "    .dataframe tbody tr th:only-of-type {\n",
       "        vertical-align: middle;\n",
       "    }\n",
       "\n",
       "    .dataframe tbody tr th {\n",
       "        vertical-align: top;\n",
       "    }\n",
       "\n",
       "    .dataframe thead th {\n",
       "        text-align: right;\n",
       "    }\n",
       "</style>\n",
       "<table border=\"1\" class=\"dataframe\">\n",
       "  <thead>\n",
       "    <tr style=\"text-align: right;\">\n",
       "      <th></th>\n",
       "      <th>texture_distance_used</th>\n",
       "      <th>texture_haralick_ang2nd_moment</th>\n",
       "      <th>texture_haralick_contrast</th>\n",
       "      <th>texture_haralick_corr</th>\n",
       "      <th>texture_haralick_diff_entropy</th>\n",
       "      <th>texture_haralick_diff_var</th>\n",
       "      <th>texture_haralick_entropy</th>\n",
       "      <th>texture_haralick_info_corr1</th>\n",
       "      <th>texture_haralick_info_corr2</th>\n",
       "      <th>texture_haralick_inv_diff_moment</th>\n",
       "      <th>texture_haralick_sum_entropy</th>\n",
       "      <th>texture_haralick_sum_mean</th>\n",
       "      <th>texture_haralick_sum_var</th>\n",
       "      <th>texture_haralick_variance</th>\n",
       "    </tr>\n",
       "  </thead>\n",
       "  <tbody>\n",
       "    <tr>\n",
       "      <th>0</th>\n",
       "      <td>[5]</td>\n",
       "      <td>[0.0023530499502239033]</td>\n",
       "      <td>[34.116576402373056]</td>\n",
       "      <td>[0.6501496111846703]</td>\n",
       "      <td>[3.6433716458925187]</td>\n",
       "      <td>[0.00036081779978095174]</td>\n",
       "      <td>[9.199031070297131]</td>\n",
       "      <td>[-0.08784617456418092]</td>\n",
       "      <td>[0.7402432993146439]</td>\n",
       "      <td>[0.20291146366172638]</td>\n",
       "      <td>[5.652335342280727]</td>\n",
       "      <td>[464.5622650676289]</td>\n",
       "      <td>[161.58095203982353]</td>\n",
       "      <td>[48.92438211055168]</td>\n",
       "    </tr>\n",
       "    <tr>\n",
       "      <th>1</th>\n",
       "      <td>[5]</td>\n",
       "      <td>[0.0028284934595447053]</td>\n",
       "      <td>[36.86518717351579]</td>\n",
       "      <td>[0.5003952379708114]</td>\n",
       "      <td>[3.7026455332607577]</td>\n",
       "      <td>[0.00034067546003038675]</td>\n",
       "      <td>[9.022475566693135]</td>\n",
       "      <td>[-0.053613555590636415]</td>\n",
       "      <td>[0.6047726225261255]</td>\n",
       "      <td>[0.19166762136360443]</td>\n",
       "      <td>[5.414325893077303]</td>\n",
       "      <td>[455.89093953089616]</td>\n",
       "      <td>[110.99750156919337]</td>\n",
       "      <td>[36.96567218567697]</td>\n",
       "    </tr>\n",
       "    <tr>\n",
       "      <th>2</th>\n",
       "      <td>[5]</td>\n",
       "      <td>[1.0]</td>\n",
       "      <td>[0.0]</td>\n",
       "      <td>[1.0]</td>\n",
       "      <td>[0.0]</td>\n",
       "      <td>[0.0038909912109375]</td>\n",
       "      <td>[0.0]</td>\n",
       "      <td>[0.0]</td>\n",
       "      <td>[0.0]</td>\n",
       "      <td>[1.0]</td>\n",
       "      <td>[0.0]</td>\n",
       "      <td>[510.0]</td>\n",
       "      <td>[0.0]</td>\n",
       "      <td>[0.0]</td>\n",
       "    </tr>\n",
       "    <tr>\n",
       "      <th>3</th>\n",
       "      <td>[5]</td>\n",
       "      <td>[0.9856243836499288]</td>\n",
       "      <td>[0.15595475232274844]</td>\n",
       "      <td>[0.05306356609293516]</td>\n",
       "      <td>[0.08365751068892482]</td>\n",
       "      <td>[0.0038351611473752436]</td>\n",
       "      <td>[0.09326209533376233]</td>\n",
       "      <td>[-0.03384020702095046]</td>\n",
       "      <td>[0.051059746244765364]</td>\n",
       "      <td>[0.9941159018824709]</td>\n",
       "      <td>[0.08459597645929116]</td>\n",
       "      <td>[509.97147077146553]</td>\n",
       "      <td>[0.1724693127885425]</td>\n",
       "      <td>[0.08210601627853556]</td>\n",
       "    </tr>\n",
       "    <tr>\n",
       "      <th>4</th>\n",
       "      <td>[5]</td>\n",
       "      <td>[0.9721851528909787]</td>\n",
       "      <td>[0.3675958508037098]</td>\n",
       "      <td>[0.08838698826859528]</td>\n",
       "      <td>[0.1506817916233367]</td>\n",
       "      <td>[0.003783206252955425]</td>\n",
       "      <td>[0.17070685981527206]</td>\n",
       "      <td>[-0.037359005022642354]</td>\n",
       "      <td>[0.07171948574697345]</td>\n",
       "      <td>[0.9885324079707589]</td>\n",
       "      <td>[0.15336980042381593]</td>\n",
       "      <td>[509.9384911639996]</td>\n",
       "      <td>[0.4365346599862768]</td>\n",
       "      <td>[0.2010326276996728]</td>\n",
       "    </tr>\n",
       "  </tbody>\n",
       "</table>\n",
       "</div>"
      ],
      "text/plain": [
       "  texture_distance_used texture_haralick_ang2nd_moment  \\\n",
       "0                   [5]        [0.0023530499502239033]   \n",
       "1                   [5]        [0.0028284934595447053]   \n",
       "2                   [5]                          [1.0]   \n",
       "3                   [5]           [0.9856243836499288]   \n",
       "4                   [5]           [0.9721851528909787]   \n",
       "\n",
       "  texture_haralick_contrast  texture_haralick_corr  \\\n",
       "0      [34.116576402373056]   [0.6501496111846703]   \n",
       "1       [36.86518717351579]   [0.5003952379708114]   \n",
       "2                     [0.0]                  [1.0]   \n",
       "3     [0.15595475232274844]  [0.05306356609293516]   \n",
       "4      [0.3675958508037098]  [0.08838698826859528]   \n",
       "\n",
       "  texture_haralick_diff_entropy texture_haralick_diff_var  \\\n",
       "0          [3.6433716458925187]  [0.00036081779978095174]   \n",
       "1          [3.7026455332607577]  [0.00034067546003038675]   \n",
       "2                         [0.0]      [0.0038909912109375]   \n",
       "3         [0.08365751068892482]   [0.0038351611473752436]   \n",
       "4          [0.1506817916233367]    [0.003783206252955425]   \n",
       "\n",
       "  texture_haralick_entropy texture_haralick_info_corr1  \\\n",
       "0      [9.199031070297131]      [-0.08784617456418092]   \n",
       "1      [9.022475566693135]     [-0.053613555590636415]   \n",
       "2                    [0.0]                       [0.0]   \n",
       "3    [0.09326209533376233]      [-0.03384020702095046]   \n",
       "4    [0.17070685981527206]     [-0.037359005022642354]   \n",
       "\n",
       "  texture_haralick_info_corr2 texture_haralick_inv_diff_moment  \\\n",
       "0        [0.7402432993146439]            [0.20291146366172638]   \n",
       "1        [0.6047726225261255]            [0.19166762136360443]   \n",
       "2                       [0.0]                            [1.0]   \n",
       "3      [0.051059746244765364]             [0.9941159018824709]   \n",
       "4       [0.07171948574697345]             [0.9885324079707589]   \n",
       "\n",
       "  texture_haralick_sum_entropy texture_haralick_sum_mean  \\\n",
       "0          [5.652335342280727]       [464.5622650676289]   \n",
       "1          [5.414325893077303]      [455.89093953089616]   \n",
       "2                        [0.0]                   [510.0]   \n",
       "3        [0.08459597645929116]      [509.97147077146553]   \n",
       "4        [0.15336980042381593]       [509.9384911639996]   \n",
       "\n",
       "  texture_haralick_sum_var texture_haralick_variance  \n",
       "0     [161.58095203982353]       [48.92438211055168]  \n",
       "1     [110.99750156919337]       [36.96567218567697]  \n",
       "2                    [0.0]                     [0.0]  \n",
       "3     [0.1724693127885425]     [0.08210601627853556]  \n",
       "4     [0.4365346599862768]      [0.2010326276996728]  "
      ]
     },
     "execution_count": 26,
     "metadata": {},
     "output_type": "execute_result"
    }
   ],
   "source": [
    "info = {\n",
    "    \"distances\": [5],\n",
    "    \"scaling_params\": [0.5, 18]\n",
    "}\n",
    "\n",
    "result = []\n",
    "for i, stage in enumerate(STAGES):\n",
    "    f, _ = extractor.get_texture_features(img=dataset[i][\"data\"][1][\"img\"][0], params=info)\n",
    "    result.append(f)\n",
    "result = pd.DataFrame(result)\n",
    "result.head()"
   ]
  },
  {
   "cell_type": "code",
   "execution_count": 32,
   "metadata": {},
   "outputs": [
    {
     "data": {
      "image/png": "[encoded data removed]",
      "text/plain": [
       "<Figure size 576x288 with 1 Axes>"
      ]
     },
     "metadata": {
      "needs_background": "light"
     },
     "output_type": "display_data"
    }
   ],
   "source": [
    "result_new = []\n",
    "for index in result.index:\n",
    "    result_new.append({\"value\": result.at[index,\"texture_haralick_entropy\"][0]})\n",
    "result_new = pd.DataFrame(result_new)\n",
    "display_time_series(result=result_new, variable=\"value\", imgs=dataset, channel=(1,0))"
   ]
  },
  {
   "cell_type": "markdown",
   "metadata": {},
   "source": [
    "### Dispersion Features"
   ]
  },
  {
   "cell_type": "code",
   "execution_count": 21,
   "metadata": {},
   "outputs": [
    {
     "name": "stdout",
     "output_type": "stream",
     "text": [
      "Params: True 5 5\n",
      "Params: True 5 5\n",
      "Params: True 5 5\n",
      "Params: True 5 5\n",
      "Params: True 5 5\n",
      "Params: True 5 5\n",
      "Params: True 5 5\n"
     ]
    },
    {
     "data": {
      "text/html": [
       "<div>\n",
       "<style scoped>\n",
       "    .dataframe tbody tr th:only-of-type {\n",
       "        vertical-align: middle;\n",
       "    }\n",
       "\n",
       "    .dataframe tbody tr th {\n",
       "        vertical-align: top;\n",
       "    }\n",
       "\n",
       "    .dataframe thead th {\n",
       "        text-align: right;\n",
       "    }\n",
       "</style>\n",
       "<table border=\"1\" class=\"dataframe\">\n",
       "  <thead>\n",
       "    <tr style=\"text-align: right;\">\n",
       "      <th></th>\n",
       "      <th>dispersion_control</th>\n",
       "      <th>dispersion_cost_control</th>\n",
       "      <th>dispersion_cost_data</th>\n",
       "      <th>dispersion_cost_local_control</th>\n",
       "      <th>dispersion_cost_local_data</th>\n",
       "      <th>dispersion_data</th>\n",
       "      <th>dispersion_local_control</th>\n",
       "      <th>dispersion_local_data</th>\n",
       "    </tr>\n",
       "  </thead>\n",
       "  <tbody>\n",
       "    <tr>\n",
       "      <th>0</th>\n",
       "      <td>0.284287</td>\n",
       "      <td>0.557736</td>\n",
       "      <td>0.482005</td>\n",
       "      <td>0.436382</td>\n",
       "      <td>0.367661</td>\n",
       "      <td>0.212609</td>\n",
       "      <td>0.157765</td>\n",
       "      <td>0.146336</td>\n",
       "    </tr>\n",
       "    <tr>\n",
       "      <th>1</th>\n",
       "      <td>0.287262</td>\n",
       "      <td>0.541574</td>\n",
       "      <td>0.451221</td>\n",
       "      <td>0.414365</td>\n",
       "      <td>0.381066</td>\n",
       "      <td>0.104146</td>\n",
       "      <td>0.206526</td>\n",
       "      <td>0.094911</td>\n",
       "    </tr>\n",
       "    <tr>\n",
       "      <th>2</th>\n",
       "      <td>0.261807</td>\n",
       "      <td>0.539750</td>\n",
       "      <td>0.511955</td>\n",
       "      <td>0.428869</td>\n",
       "      <td>0.434927</td>\n",
       "      <td>0.145080</td>\n",
       "      <td>0.190318</td>\n",
       "      <td>0.117808</td>\n",
       "    </tr>\n",
       "    <tr>\n",
       "      <th>3</th>\n",
       "      <td>0.191641</td>\n",
       "      <td>0.499162</td>\n",
       "      <td>0.492728</td>\n",
       "      <td>0.392658</td>\n",
       "      <td>0.418262</td>\n",
       "      <td>0.167553</td>\n",
       "      <td>0.116936</td>\n",
       "      <td>0.136239</td>\n",
       "    </tr>\n",
       "    <tr>\n",
       "      <th>4</th>\n",
       "      <td>0.213565</td>\n",
       "      <td>0.507504</td>\n",
       "      <td>0.532563</td>\n",
       "      <td>0.413904</td>\n",
       "      <td>0.443464</td>\n",
       "      <td>0.189947</td>\n",
       "      <td>0.164119</td>\n",
       "      <td>0.142841</td>\n",
       "    </tr>\n",
       "  </tbody>\n",
       "</table>\n",
       "</div>"
      ],
      "text/plain": [
       "   dispersion_control  dispersion_cost_control  dispersion_cost_data  \\\n",
       "0            0.284287                 0.557736              0.482005   \n",
       "1            0.287262                 0.541574              0.451221   \n",
       "2            0.261807                 0.539750              0.511955   \n",
       "3            0.191641                 0.499162              0.492728   \n",
       "4            0.213565                 0.507504              0.532563   \n",
       "\n",
       "   dispersion_cost_local_control  dispersion_cost_local_data  dispersion_data  \\\n",
       "0                       0.436382                    0.367661         0.212609   \n",
       "1                       0.414365                    0.381066         0.104146   \n",
       "2                       0.428869                    0.434927         0.145080   \n",
       "3                       0.392658                    0.418262         0.167553   \n",
       "4                       0.413904                    0.443464         0.189947   \n",
       "\n",
       "   dispersion_local_control  dispersion_local_data  \n",
       "0                  0.157765               0.146336  \n",
       "1                  0.206526               0.094911  \n",
       "2                  0.190318               0.117808  \n",
       "3                  0.116936               0.136239  \n",
       "4                  0.164119               0.142841  "
      ]
     },
     "execution_count": 21,
     "metadata": {},
     "output_type": "execute_result"
    }
   ],
   "source": [
    "info = {\n",
    "    \"normalize\": \"True\",\n",
    "    \"number_of_samples\": 5,\n",
    "    \"repetitions\": 5\n",
    "}\n",
    "\n",
    "result = []\n",
    "for i, stage in enumerate(STAGES):\n",
    "    f, _ = extractor.get_dispersion_features(image1_seg=dataset[i][\"data\"][0][\"img\"][1], image2_seg=dataset[i][\"data\"][1][\"img\"][1], params=info)\n",
    "    result.append(f)\n",
    "result = pd.DataFrame(result)\n",
    "result.head()"
   ]
  },
  {
   "cell_type": "code",
   "execution_count": 25,
   "metadata": {},
   "outputs": [
    {
     "data": {
      "image/png": "[encoded data removed]",
      "text/plain": [
       "<Figure size 576x288 with 1 Axes>"
      ]
     },
     "metadata": {
      "needs_background": "light"
     },
     "output_type": "display_data"
    },
    {
     "data": {
      "image/png": "[encoded data removed]",
      "text/plain": [
       "<Figure size 576x288 with 1 Axes>"
      ]
     },
     "metadata": {
      "needs_background": "light"
     },
     "output_type": "display_data"
    }
   ],
   "source": [
    "display_time_series(result=result, variable=\"dispersion_data\", imgs=dataset, channel=(1,1))\n",
    "display_time_series(result=result, variable=\"dispersion_local_data\", imgs=dataset, channel=(1,1))"
   ]
  },
  {
   "cell_type": "markdown",
   "metadata": {},
   "source": [
    "# Nucleus project-specific features\n",
    "\n",
    "### IO Intensity Features"
   ]
  },
  {
   "cell_type": "code",
   "execution_count": 51,
   "metadata": {},
   "outputs": [
    {
     "name": "stdout",
     "output_type": "stream",
     "text": [
      "Params: [1, 4, 4, 4] [2, 4]\n",
      "Params: [1, 4, 4, 4] [2, 4]\n",
      "Params: [1, 4, 4, 4] [2, 4]\n",
      "Params: [1, 4, 4, 4] [2, 4]\n",
      "Params: [1, 4, 4, 4] [2, 4]\n",
      "Params: [1, 4, 4, 4] [2, 4]\n",
      "Params: [1, 4, 4, 4] [2, 4]\n"
     ]
    },
    {
     "data": {
      "text/html": [
       "<div>\n",
       "<style scoped>\n",
       "    .dataframe tbody tr th:only-of-type {\n",
       "        vertical-align: middle;\n",
       "    }\n",
       "\n",
       "    .dataframe tbody tr th {\n",
       "        vertical-align: top;\n",
       "    }\n",
       "\n",
       "    .dataframe thead th {\n",
       "        text-align: right;\n",
       "    }\n",
       "</style>\n",
       "<table border=\"1\" class=\"dataframe\">\n",
       "  <thead>\n",
       "    <tr style=\"text-align: right;\">\n",
       "      <th></th>\n",
       "      <th>io_intensity_inner_mean</th>\n",
       "      <th>io_intensity_inner_slice_mean</th>\n",
       "      <th>io_intensity_inner_volume</th>\n",
       "      <th>io_intensity_outer_mean</th>\n",
       "      <th>io_intensity_outer_slice_mean</th>\n",
       "      <th>io_intensity_outer_volume</th>\n",
       "    </tr>\n",
       "  </thead>\n",
       "  <tbody>\n",
       "    <tr>\n",
       "      <th>0</th>\n",
       "      <td>4462.425950</td>\n",
       "      <td>4505.721510</td>\n",
       "      <td>136232</td>\n",
       "      <td>4319.369288</td>\n",
       "      <td>4391.183532</td>\n",
       "      <td>200743</td>\n",
       "    </tr>\n",
       "    <tr>\n",
       "      <th>1</th>\n",
       "      <td>5613.289054</td>\n",
       "      <td>5656.093960</td>\n",
       "      <td>12489</td>\n",
       "      <td>5542.576124</td>\n",
       "      <td>5602.384960</td>\n",
       "      <td>211083</td>\n",
       "    </tr>\n",
       "    <tr>\n",
       "      <th>2</th>\n",
       "      <td>5163.247329</td>\n",
       "      <td>5271.958724</td>\n",
       "      <td>19185</td>\n",
       "      <td>4880.388435</td>\n",
       "      <td>4946.212230</td>\n",
       "      <td>85762</td>\n",
       "    </tr>\n",
       "    <tr>\n",
       "      <th>3</th>\n",
       "      <td>6707.507195</td>\n",
       "      <td>7073.544218</td>\n",
       "      <td>37524</td>\n",
       "      <td>6067.801548</td>\n",
       "      <td>6340.858650</td>\n",
       "      <td>67190</td>\n",
       "    </tr>\n",
       "    <tr>\n",
       "      <th>4</th>\n",
       "      <td>7139.983408</td>\n",
       "      <td>7362.294511</td>\n",
       "      <td>42068</td>\n",
       "      <td>6398.369406</td>\n",
       "      <td>6596.462607</td>\n",
       "      <td>70034</td>\n",
       "    </tr>\n",
       "  </tbody>\n",
       "</table>\n",
       "</div>"
      ],
      "text/plain": [
       "   io_intensity_inner_mean  io_intensity_inner_slice_mean  \\\n",
       "0              4462.425950                    4505.721510   \n",
       "1              5613.289054                    5656.093960   \n",
       "2              5163.247329                    5271.958724   \n",
       "3              6707.507195                    7073.544218   \n",
       "4              7139.983408                    7362.294511   \n",
       "\n",
       "   io_intensity_inner_volume  io_intensity_outer_mean  \\\n",
       "0                     136232              4319.369288   \n",
       "1                      12489              5542.576124   \n",
       "2                      19185              4880.388435   \n",
       "3                      37524              6067.801548   \n",
       "4                      42068              6398.369406   \n",
       "\n",
       "   io_intensity_outer_slice_mean  io_intensity_outer_volume  \n",
       "0                    4391.183532                     200743  \n",
       "1                    5602.384960                     211083  \n",
       "2                    4946.212230                      85762  \n",
       "3                    6340.858650                      67190  \n",
       "4                    6596.462607                      70034  "
      ]
     },
     "execution_count": 51,
     "metadata": {},
     "output_type": "execute_result"
    }
   ],
   "source": [
    "result = []\n",
    "for i, stage in enumerate(STAGES):\n",
    "    f, _ = extractor.get_io_intensity_features(img=dataset[i][\"data\"][1][\"img\"][0], params=[\"None\"])\n",
    "    result.append(f)\n",
    "result = pd.DataFrame(result)\n",
    "result.head()"
   ]
  },
  {
   "cell_type": "code",
   "execution_count": 52,
   "metadata": {},
   "outputs": [
    {
     "data": {
      "image/png": "[encoded data removed]",
      "text/plain": [
       "<Figure size 576x288 with 1 Axes>"
      ]
     },
     "metadata": {
      "needs_background": "light"
     },
     "output_type": "display_data"
    }
   ],
   "source": [
    "display_time_series(result=result, variable=\"io_intensity_inner_mean\", imgs=dataset, channel=(1,0))"
   ]
  },
  {
   "cell_type": "markdown",
   "metadata": {},
   "source": [
    "### Bright Spots"
   ]
  },
  {
   "cell_type": "code",
   "execution_count": 53,
   "metadata": {},
   "outputs": [
    {
     "name": "stdout",
     "output_type": "stream",
     "text": [
      "Params: 1 11 0.85 [0.5, 18]\n",
      "Params: 1 11 0.85 [0.5, 18]\n",
      "Params: 1 11 0.85 [0.5, 18]\n",
      "Params: 1 11 0.85 [0.5, 18]\n",
      "Params: 1 11 0.85 [0.5, 18]\n",
      "Params: 1 11 0.85 [0.5, 18]\n",
      "Params: 1 11 0.85 [0.5, 18]\n"
     ]
    },
    {
     "data": {
      "text/html": [
       "<div>\n",
       "<style scoped>\n",
       "    .dataframe tbody tr th:only-of-type {\n",
       "        vertical-align: middle;\n",
       "    }\n",
       "\n",
       "    .dataframe tbody tr th {\n",
       "        vertical-align: top;\n",
       "    }\n",
       "\n",
       "    .dataframe thead th {\n",
       "        text-align: right;\n",
       "    }\n",
       "</style>\n",
       "<table border=\"1\" class=\"dataframe\">\n",
       "  <thead>\n",
       "    <tr style=\"text-align: right;\">\n",
       "      <th></th>\n",
       "      <th>bright_spots_intensity_mean</th>\n",
       "      <th>bright_spots_number</th>\n",
       "      <th>bright_spots_number_used</th>\n",
       "      <th>bright_spots_xy_cross_sec_area_mean</th>\n",
       "      <th>bright_spots_xy_cross_sec_area_std</th>\n",
       "    </tr>\n",
       "  </thead>\n",
       "  <tbody>\n",
       "    <tr>\n",
       "      <th>0</th>\n",
       "      <td>4421.302668</td>\n",
       "      <td>2</td>\n",
       "      <td>2</td>\n",
       "      <td>269.0</td>\n",
       "      <td>260.000000</td>\n",
       "    </tr>\n",
       "    <tr>\n",
       "      <th>1</th>\n",
       "      <td>5366.225186</td>\n",
       "      <td>21</td>\n",
       "      <td>17</td>\n",
       "      <td>94.0</td>\n",
       "      <td>132.172347</td>\n",
       "    </tr>\n",
       "    <tr>\n",
       "      <th>2</th>\n",
       "      <td>4661.265497</td>\n",
       "      <td>45606</td>\n",
       "      <td>5</td>\n",
       "      <td>8.2</td>\n",
       "      <td>5.979967</td>\n",
       "    </tr>\n",
       "    <tr>\n",
       "      <th>3</th>\n",
       "      <td>NaN</td>\n",
       "      <td>0</td>\n",
       "      <td>0</td>\n",
       "      <td>NaN</td>\n",
       "      <td>NaN</td>\n",
       "    </tr>\n",
       "    <tr>\n",
       "      <th>4</th>\n",
       "      <td>NaN</td>\n",
       "      <td>0</td>\n",
       "      <td>0</td>\n",
       "      <td>NaN</td>\n",
       "      <td>NaN</td>\n",
       "    </tr>\n",
       "  </tbody>\n",
       "</table>\n",
       "</div>"
      ],
      "text/plain": [
       "   bright_spots_intensity_mean  bright_spots_number  bright_spots_number_used  \\\n",
       "0                  4421.302668                    2                         2   \n",
       "1                  5366.225186                   21                        17   \n",
       "2                  4661.265497                45606                         5   \n",
       "3                          NaN                    0                         0   \n",
       "4                          NaN                    0                         0   \n",
       "\n",
       "   bright_spots_xy_cross_sec_area_mean  bright_spots_xy_cross_sec_area_std  \n",
       "0                                269.0                          260.000000  \n",
       "1                                 94.0                          132.172347  \n",
       "2                                  8.2                            5.979967  \n",
       "3                                  NaN                                 NaN  \n",
       "4                                  NaN                                 NaN  "
      ]
     },
     "execution_count": 53,
     "metadata": {},
     "output_type": "execute_result"
    }
   ],
   "source": [
    "result = []\n",
    "for i, stage in enumerate(STAGES):\n",
    "    f, _ = extractor.get_bright_spots_features(img=dataset[i][\"data\"][1][\"img\"][0], params=[\"None\"])\n",
    "    result.append(f)\n",
    "result = pd.DataFrame(result)\n",
    "result.head()"
   ]
  },
  {
   "cell_type": "code",
   "execution_count": 54,
   "metadata": {},
   "outputs": [
    {
     "data": {
      "image/png": "[encoded data removed]",
      "text/plain": [
       "<Figure size 576x288 with 1 Axes>"
      ]
     },
     "metadata": {
      "needs_background": "light"
     },
     "output_type": "display_data"
    }
   ],
   "source": [
    "display_time_series(result=result, variable=\"bright_spots_number_used\", imgs=dataset, channel=(1,0))"
   ]
  },
  {
   "cell_type": "code",
   "execution_count": 101,
   "metadata": {},
   "outputs": [
    {
     "name": "stdout",
     "output_type": "stream",
     "text": [
      "   dna_shape_1st_axis_length_lcc  dna_shape_1st_axis_x_lcc  \\\n",
      "0                      77.393315                  0.101609   \n",
      "\n",
      "   dna_shape_1st_axis_y_lcc  dna_shape_1st_axis_z_lcc  \\\n",
      "0                  0.992207                 -0.072124   \n",
      "\n",
      "   dna_shape_1st_eigenvalue_lcc  dna_shape_2nd_axis_length_lcc  \\\n",
      "0                    107.823646                       71.56521   \n",
      "\n",
      "   dna_shape_2nd_axis_x_lcc  dna_shape_2nd_axis_y_lcc  \\\n",
      "0                  0.381779                  -0.10584   \n",
      "\n",
      "   dna_shape_2nd_axis_z_lcc  dna_shape_2nd_eigenvalue_lcc  \\\n",
      "0                 -0.918173                    258.413091   \n",
      "\n",
      "              ...              dna_shape_volume_lcc  dna_dispersion_control  \\\n",
      "0             ...                          133285.0                0.135602   \n",
      "\n",
      "   dna_dispersion_cost_control  dna_dispersion_cost_data  \\\n",
      "0                      0.21715                   0.61434   \n",
      "\n",
      "   dna_dispersion_cost_local_control  dna_dispersion_cost_local_data  \\\n",
      "0                           0.136311                        0.343631   \n",
      "\n",
      "   dna_dispersion_data  dna_dispersion_local_control  \\\n",
      "0             0.413805                      0.054801   \n",
      "\n",
      "   dna_dispersion_local_data  dna_connectivity_number_cc  \n",
      "0                   0.350193                           2  \n",
      "\n",
      "[1 rows x 27 columns]\n"
     ]
    },
    {
     "data": {
      "text/html": [
       "<div>\n",
       "<style scoped>\n",
       "    .dataframe tbody tr th:only-of-type {\n",
       "        vertical-align: middle;\n",
       "    }\n",
       "\n",
       "    .dataframe tbody tr th {\n",
       "        vertical-align: top;\n",
       "    }\n",
       "\n",
       "    .dataframe thead th {\n",
       "        text-align: right;\n",
       "    }\n",
       "</style>\n",
       "<table border=\"1\" class=\"dataframe\">\n",
       "  <thead>\n",
       "    <tr style=\"text-align: right;\">\n",
       "      <th></th>\n",
       "      <th>dna_shape_1st_axis_length_lcc</th>\n",
       "      <th>dna_shape_1st_axis_x_lcc</th>\n",
       "      <th>dna_shape_1st_axis_y_lcc</th>\n",
       "      <th>dna_shape_1st_axis_z_lcc</th>\n",
       "      <th>dna_shape_1st_eigenvalue_lcc</th>\n",
       "      <th>dna_shape_2nd_axis_length_lcc</th>\n",
       "      <th>dna_shape_2nd_axis_x_lcc</th>\n",
       "      <th>dna_shape_2nd_axis_y_lcc</th>\n",
       "      <th>dna_shape_2nd_axis_z_lcc</th>\n",
       "      <th>dna_shape_2nd_eigenvalue_lcc</th>\n",
       "      <th>...</th>\n",
       "      <th>dna_shape_volume_lcc</th>\n",
       "      <th>dna_dispersion_control</th>\n",
       "      <th>dna_dispersion_cost_control</th>\n",
       "      <th>dna_dispersion_cost_data</th>\n",
       "      <th>dna_dispersion_cost_local_control</th>\n",
       "      <th>dna_dispersion_cost_local_data</th>\n",
       "      <th>dna_dispersion_data</th>\n",
       "      <th>dna_dispersion_local_control</th>\n",
       "      <th>dna_dispersion_local_data</th>\n",
       "      <th>dna_connectivity_number_cc</th>\n",
       "    </tr>\n",
       "  </thead>\n",
       "  <tbody>\n",
       "    <tr>\n",
       "      <th>0</th>\n",
       "      <td>77.393315</td>\n",
       "      <td>0.101609</td>\n",
       "      <td>0.992207</td>\n",
       "      <td>-0.072124</td>\n",
       "      <td>107.823646</td>\n",
       "      <td>71.56521</td>\n",
       "      <td>0.381779</td>\n",
       "      <td>-0.10584</td>\n",
       "      <td>-0.918173</td>\n",
       "      <td>258.413091</td>\n",
       "      <td>...</td>\n",
       "      <td>133285.0</td>\n",
       "      <td>0.135602</td>\n",
       "      <td>0.21715</td>\n",
       "      <td>0.61434</td>\n",
       "      <td>0.136311</td>\n",
       "      <td>0.343631</td>\n",
       "      <td>0.413805</td>\n",
       "      <td>0.054801</td>\n",
       "      <td>0.350193</td>\n",
       "      <td>2</td>\n",
       "    </tr>\n",
       "  </tbody>\n",
       "</table>\n",
       "<p>1 rows × 27 columns</p>\n",
       "</div>"
      ],
      "text/plain": [
       "   dna_shape_1st_axis_length_lcc  dna_shape_1st_axis_x_lcc  \\\n",
       "0                      77.393315                  0.101609   \n",
       "\n",
       "   dna_shape_1st_axis_y_lcc  dna_shape_1st_axis_z_lcc  \\\n",
       "0                  0.992207                 -0.072124   \n",
       "\n",
       "   dna_shape_1st_eigenvalue_lcc  dna_shape_2nd_axis_length_lcc  \\\n",
       "0                    107.823646                       71.56521   \n",
       "\n",
       "   dna_shape_2nd_axis_x_lcc  dna_shape_2nd_axis_y_lcc  \\\n",
       "0                  0.381779                  -0.10584   \n",
       "\n",
       "   dna_shape_2nd_axis_z_lcc  dna_shape_2nd_eigenvalue_lcc  \\\n",
       "0                 -0.918173                    258.413091   \n",
       "\n",
       "              ...              dna_shape_volume_lcc  dna_dispersion_control  \\\n",
       "0             ...                          133285.0                0.135602   \n",
       "\n",
       "   dna_dispersion_cost_control  dna_dispersion_cost_data  \\\n",
       "0                      0.21715                   0.61434   \n",
       "\n",
       "   dna_dispersion_cost_local_control  dna_dispersion_cost_local_data  \\\n",
       "0                           0.136311                        0.343631   \n",
       "\n",
       "   dna_dispersion_data  dna_dispersion_local_control  \\\n",
       "0             0.413805                      0.054801   \n",
       "\n",
       "   dna_dispersion_local_data  dna_connectivity_number_cc  \n",
       "0                   0.350193                           2  \n",
       "\n",
       "[1 rows x 27 columns]"
      ]
     },
     "execution_count": 101,
     "metadata": {},
     "output_type": "execute_result"
    }
   ],
   "source": [
    "importlib.reload(extractor)\n",
    "\n",
    "info={\"mode\": \"lcc\",\n",
    "      \"prefix\": \"dna\",\n",
    "      \"shape\": {\"default\": 0},\n",
    "     \"dispersion\": {\"normalize\": \"True\", \"repetitions\": 5}}\n",
    "\n",
    "result = extractor.get_features(input_img=dataset[6][\"data\"][1][\"img\"][0],\n",
    "                                 input_mask=dataset[6][\"data\"][1][\"img\"][1],\n",
    "                                 info=info,\n",
    "                                input_mask2=dataset[6][\"data\"][0][\"img\"][1])\n",
    "result"
   ]
  },
  {
   "cell_type": "code",
   "execution_count": 71,
   "metadata": {},
   "outputs": [
    {
     "data": {
      "text/plain": [
       "shape_1st_axis_length                77.393315\n",
       "shape_1st_axis_x                      0.101609\n",
       "shape_1st_axis_y                      0.992207\n",
       "shape_1st_axis_z                     -0.072124\n",
       "shape_1st_eigenvalue                107.823646\n",
       "shape_2nd_axis_length                71.565210\n",
       "shape_2nd_axis_x                      0.381779\n",
       "shape_2nd_axis_y                     -0.105840\n",
       "shape_2nd_axis_z                     -0.918173\n",
       "shape_2nd_eigenvalue                258.413091\n",
       "shape_3rd_axis_length                48.494264\n",
       "shape_3rd_axis_x                     -0.918651\n",
       "shape_3rd_axis_y                      0.065759\n",
       "shape_3rd_axis_z                     -0.389558\n",
       "shape_3rd_eigenvalue                320.088755\n",
       "shape_equator_eccentricity            0.417253\n",
       "shape_meridional_eccentricity         0.807317\n",
       "shape_volume                     133285.000000\n",
       "dtype: float64"
      ]
     },
     "execution_count": 71,
     "metadata": {},
     "output_type": "execute_result"
    }
   ],
   "source": [
    "pd.DataFrame(result).sum()"
   ]
  },
  {
   "cell_type": "code",
   "execution_count": 73,
   "metadata": {},
   "outputs": [
    {
     "data": {
      "text/plain": [
       "array([0, 0, 0, 0, 1, 1, 0, 0, 0, 0], dtype=uint8)"
      ]
     },
     "execution_count": 73,
     "metadata": {},
     "output_type": "execute_result"
    }
   ],
   "source": [
    "(np.array([1,2,3,4,5,5,4,3,2,1])==5).astype(np.uint8)"
   ]
  },
  {
   "cell_type": "code",
   "execution_count": null,
   "metadata": {},
   "outputs": [],
   "source": []
  }
 ],
 "metadata": {
  "kernelspec": {
   "display_name": "Python 3",
   "language": "python",
   "name": "python3"
  },
  "language_info": {
   "codemirror_mode": {
    "name": "ipython",
    "version": 3
   },
   "file_extension": ".py",
   "mimetype": "text/x-python",
   "name": "python",
   "nbconvert_exporter": "python",
   "pygments_lexer": "ipython3",
   "version": "3.6.6"
  }
 },
 "nbformat": 4,
 "nbformat_minor": 2
}
