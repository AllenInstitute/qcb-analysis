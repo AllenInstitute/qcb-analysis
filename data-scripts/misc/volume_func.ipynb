{
 "cells": [
  {
   "cell_type": "code",
   "execution_count": 2,
   "metadata": {},
   "outputs": [],
   "source": [
    "import numpy as np\n",
    "from skimage.morphology import binary_dilation\n",
    "import matplotlib.pyplot as plt\n",
    "from aicsfeature.extractor import common"
   ]
  },
  {
   "cell_type": "code",
   "execution_count": 13,
   "metadata": {},
   "outputs": [
    {
     "data": {
      "text/plain": [
       "<matplotlib.image.AxesImage at 0x1251d3c50>"
      ]
     },
     "execution_count": 13,
     "metadata": {},
     "output_type": "execute_result"
    },
    {
     "data": {
      "image/png": "[encoded data removed]",
      "text/plain": [
       "<Figure size 432x288 with 1 Axes>"
      ]
     },
     "metadata": {
      "needs_background": "light"
     },
     "output_type": "display_data"
    }
   ],
   "source": [
    "img = np.zeros((512+1,512+1,512+1), dtype=np.int)\n",
    "r = 32\n",
    "img[(256-r):(256+r),(256-r):(256+r),(256-r):(256+r)] = 1\n",
    "img_dx = np.diff(img,axis=2)\n",
    "img_dy = np.diff(img,axis=1)\n",
    "img_dz = np.diff(img,axis=0)\n",
    "img_surface = np.ab\n",
    "plt.imshow(img_dx.mean(axis=0))"
   ]
  },
  {
   "cell_type": "code",
   "execution_count": 14,
   "metadata": {},
   "outputs": [
    {
     "data": {
      "text/plain": [
       "-1"
      ]
     },
     "execution_count": 14,
     "metadata": {},
     "output_type": "execute_result"
    }
   ],
   "source": [
    "img_dx.min()"
   ]
  },
  {
   "cell_type": "code",
   "execution_count": 2,
   "metadata": {},
   "outputs": [
    {
     "name": "stdout",
     "output_type": "stream",
     "text": [
      "128\n"
     ]
    }
   ],
   "source": [
    "img = np.zeros((512+1,512+1,512+1), dtype=np.uint8)\n",
    "\n",
    "result = []\n",
    "for r in [128]:\n",
    "    print(r)\n",
    "    img[(256-r):(256+r),(256-r):(256+r),(256-r):(256+r)] = 1\n",
    "    f = common.get_shape_features(seg=img)\n",
    "    result.append({\"volume\": f[\"volume\"],\n",
    "                   \"surface_area\": f[\"surface_area\"]})"
   ]
  },
  {
   "cell_type": "code",
   "execution_count": 3,
   "metadata": {},
   "outputs": [
    {
     "data": {
      "text/plain": [
       "[{'volume': 16777216, 'surface_area': 390152}]"
      ]
     },
     "execution_count": 3,
     "metadata": {},
     "output_type": "execute_result"
    }
   ],
   "source": [
    "result"
   ]
  },
  {
   "cell_type": "code",
   "execution_count": null,
   "metadata": {},
   "outputs": [],
   "source": [
    "import pandas as pd\n",
    "df = pd.DataFrame(result)\n",
    "df.to_csv(\"volume.csv\" ,index=False)"
   ]
  },
  {
   "cell_type": "code",
   "execution_count": null,
   "metadata": {},
   "outputs": [],
   "source": []
  }
 ],
 "metadata": {
  "kernelspec": {
   "display_name": "Python 3",
   "language": "python",
   "name": "python3"
  },
  "language_info": {
   "codemirror_mode": {
    "name": "ipython",
    "version": 3
   },
   "file_extension": ".py",
   "mimetype": "text/x-python",
   "name": "python",
   "nbconvert_exporter": "python",
   "pygments_lexer": "ipython3",
   "version": "3.6.7"
  }
 },
 "nbformat": 4,
 "nbformat_minor": 2
}
