{
 "cells": [
  {
   "cell_type": "code",
   "execution_count": 1,
   "metadata": {},
   "outputs": [],
   "source": [
    "import os\n",
    "import sys\n",
    "import numpy as np\n",
    "import pandas as pd\n",
    "from skimage import io\n",
    "import matplotlib.pyplot as plt"
   ]
  },
  {
   "cell_type": "code",
   "execution_count": 2,
   "metadata": {},
   "outputs": [],
   "source": [
    "feat = pd.read_csv('../engine/data-processed/features.csv')\n",
    "meta = pd.read_csv('../engine/data-processed/meta.csv')"
   ]
  },
  {
   "cell_type": "code",
   "execution_count": 3,
   "metadata": {},
   "outputs": [],
   "source": [
    "data = feat.merge(meta, on='cell_id')"
   ]
  },
  {
   "cell_type": "code",
   "execution_count": 4,
   "metadata": {},
   "outputs": [
    {
     "data": {
      "text/plain": [
       "[(3839, 101), (4481, 12), (3839, 112)]"
      ]
     },
     "execution_count": 4,
     "metadata": {},
     "output_type": "execute_result"
    }
   ],
   "source": [
    "[feat.shape, meta.shape, data.shape]"
   ]
  },
  {
   "cell_type": "code",
   "execution_count": 5,
   "metadata": {},
   "outputs": [
    {
     "data": {
      "text/html": [
       "<div>\n",
       "<style scoped>\n",
       "    .dataframe tbody tr th:only-of-type {\n",
       "        vertical-align: middle;\n",
       "    }\n",
       "\n",
       "    .dataframe tbody tr th {\n",
       "        vertical-align: top;\n",
       "    }\n",
       "\n",
       "    .dataframe thead th {\n",
       "        text-align: right;\n",
       "    }\n",
       "</style>\n",
       "<table border=\"1\" class=\"dataframe\">\n",
       "  <thead>\n",
       "    <tr style=\"text-align: right;\">\n",
       "      <th></th>\n",
       "      <th>Unnamed: 0_x</th>\n",
       "      <th>cell_EquatorialEccentricity</th>\n",
       "      <th>cell_MeridionalEccentricity</th>\n",
       "      <th>cell_centroid_x</th>\n",
       "      <th>cell_centroid_x_norm</th>\n",
       "      <th>cell_centroid_y</th>\n",
       "      <th>cell_centroid_y_norm</th>\n",
       "      <th>cell_centroid_z</th>\n",
       "      <th>cell_centroid_z_norm</th>\n",
       "      <th>cell_first_axis_length</th>\n",
       "      <th>...</th>\n",
       "      <th>cell_ver</th>\n",
       "      <th>czi_filename</th>\n",
       "      <th>idx_in_stack</th>\n",
       "      <th>mitosis</th>\n",
       "      <th>mode</th>\n",
       "      <th>roi</th>\n",
       "      <th>src_csv</th>\n",
       "      <th>src_csv_row</th>\n",
       "      <th>str_ver</th>\n",
       "      <th>structure_name</th>\n",
       "    </tr>\n",
       "  </thead>\n",
       "  <tbody>\n",
       "    <tr>\n",
       "      <th>0</th>\n",
       "      <td>0</td>\n",
       "      <td>0.954248</td>\n",
       "      <td>0.992144</td>\n",
       "      <td>410.196840</td>\n",
       "      <td>0.107601</td>\n",
       "      <td>200.282480</td>\n",
       "      <td>0.074716</td>\n",
       "      <td>99.909683</td>\n",
       "      <td>0.213683</td>\n",
       "      <td>267.127038</td>\n",
       "      <td>...</td>\n",
       "      <td>0.1.0</td>\n",
       "      <td>20161209_C01_002.czi</td>\n",
       "      <td>3</td>\n",
       "      <td>0</td>\n",
       "      <td>n</td>\n",
       "      <td>[19, 195, 332, 513, 65, 295]</td>\n",
       "      <td>//allen/aics/assay-dev/StashSpreadsheets/assay...</td>\n",
       "      <td>7</td>\n",
       "      <td>0.1.0</td>\n",
       "      <td>FBL</td>\n",
       "    </tr>\n",
       "    <tr>\n",
       "      <th>1</th>\n",
       "      <td>1</td>\n",
       "      <td>0.919504</td>\n",
       "      <td>0.993980</td>\n",
       "      <td>358.856377</td>\n",
       "      <td>0.045385</td>\n",
       "      <td>337.198618</td>\n",
       "      <td>-0.002020</td>\n",
       "      <td>100.529134</td>\n",
       "      <td>0.091619</td>\n",
       "      <td>276.640338</td>\n",
       "      <td>...</td>\n",
       "      <td>0.1.0</td>\n",
       "      <td>20161209_C01_002.czi</td>\n",
       "      <td>4</td>\n",
       "      <td>0</td>\n",
       "      <td>n</td>\n",
       "      <td>[19, 187, 264, 453, 226, 444]</td>\n",
       "      <td>//allen/aics/assay-dev/StashSpreadsheets/assay...</td>\n",
       "      <td>8</td>\n",
       "      <td>0.1.0</td>\n",
       "      <td>FBL</td>\n",
       "    </tr>\n",
       "    <tr>\n",
       "      <th>2</th>\n",
       "      <td>2</td>\n",
       "      <td>0.891845</td>\n",
       "      <td>0.942940</td>\n",
       "      <td>186.607216</td>\n",
       "      <td>0.122459</td>\n",
       "      <td>528.397690</td>\n",
       "      <td>0.013015</td>\n",
       "      <td>114.846968</td>\n",
       "      <td>0.097995</td>\n",
       "      <td>202.939604</td>\n",
       "      <td>...</td>\n",
       "      <td>0.1.0</td>\n",
       "      <td>20161209_C01_002.czi</td>\n",
       "      <td>5</td>\n",
       "      <td>0</td>\n",
       "      <td>n</td>\n",
       "      <td>[19, 190, 73, 322, 422, 613]</td>\n",
       "      <td>//allen/aics/assay-dev/StashSpreadsheets/assay...</td>\n",
       "      <td>9</td>\n",
       "      <td>0.1.0</td>\n",
       "      <td>FBL</td>\n",
       "    </tr>\n",
       "    <tr>\n",
       "      <th>3</th>\n",
       "      <td>3</td>\n",
       "      <td>0.879992</td>\n",
       "      <td>0.989685</td>\n",
       "      <td>466.355636</td>\n",
       "      <td>-0.067556</td>\n",
       "      <td>262.586578</td>\n",
       "      <td>0.182389</td>\n",
       "      <td>133.596876</td>\n",
       "      <td>0.100411</td>\n",
       "      <td>330.426213</td>\n",
       "      <td>...</td>\n",
       "      <td>0.1.0</td>\n",
       "      <td>20161209_C01_002.czi</td>\n",
       "      <td>7</td>\n",
       "      <td>0</td>\n",
       "      <td>n</td>\n",
       "      <td>[19, 195, 355, 594, 68, 397]</td>\n",
       "      <td>//allen/aics/assay-dev/StashSpreadsheets/assay...</td>\n",
       "      <td>11</td>\n",
       "      <td>0.1.0</td>\n",
       "      <td>FBL</td>\n",
       "    </tr>\n",
       "    <tr>\n",
       "      <th>4</th>\n",
       "      <td>4</td>\n",
       "      <td>0.953563</td>\n",
       "      <td>0.980214</td>\n",
       "      <td>185.472376</td>\n",
       "      <td>-0.041318</td>\n",
       "      <td>367.911661</td>\n",
       "      <td>-0.065170</td>\n",
       "      <td>83.981297</td>\n",
       "      <td>0.083976</td>\n",
       "      <td>307.129410</td>\n",
       "      <td>...</td>\n",
       "      <td>0.1.0</td>\n",
       "      <td>20161209_C01_003.czi</td>\n",
       "      <td>1</td>\n",
       "      <td>0</td>\n",
       "      <td>n</td>\n",
       "      <td>[8, 189, 78, 297, 228, 481]</td>\n",
       "      <td>//allen/aics/assay-dev/StashSpreadsheets/assay...</td>\n",
       "      <td>15</td>\n",
       "      <td>0.1.0</td>\n",
       "      <td>FBL</td>\n",
       "    </tr>\n",
       "  </tbody>\n",
       "</table>\n",
       "<p>5 rows × 112 columns</p>\n",
       "</div>"
      ],
      "text/plain": [
       "   Unnamed: 0_x  cell_EquatorialEccentricity  cell_MeridionalEccentricity  \\\n",
       "0             0                     0.954248                     0.992144   \n",
       "1             1                     0.919504                     0.993980   \n",
       "2             2                     0.891845                     0.942940   \n",
       "3             3                     0.879992                     0.989685   \n",
       "4             4                     0.953563                     0.980214   \n",
       "\n",
       "   cell_centroid_x  cell_centroid_x_norm  cell_centroid_y  \\\n",
       "0       410.196840              0.107601       200.282480   \n",
       "1       358.856377              0.045385       337.198618   \n",
       "2       186.607216              0.122459       528.397690   \n",
       "3       466.355636             -0.067556       262.586578   \n",
       "4       185.472376             -0.041318       367.911661   \n",
       "\n",
       "   cell_centroid_y_norm  cell_centroid_z  cell_centroid_z_norm  \\\n",
       "0              0.074716        99.909683              0.213683   \n",
       "1             -0.002020       100.529134              0.091619   \n",
       "2              0.013015       114.846968              0.097995   \n",
       "3              0.182389       133.596876              0.100411   \n",
       "4             -0.065170        83.981297              0.083976   \n",
       "\n",
       "   cell_first_axis_length       ...        cell_ver          czi_filename  \\\n",
       "0              267.127038       ...           0.1.0  20161209_C01_002.czi   \n",
       "1              276.640338       ...           0.1.0  20161209_C01_002.czi   \n",
       "2              202.939604       ...           0.1.0  20161209_C01_002.czi   \n",
       "3              330.426213       ...           0.1.0  20161209_C01_002.czi   \n",
       "4              307.129410       ...           0.1.0  20161209_C01_003.czi   \n",
       "\n",
       "   idx_in_stack  mitosis  mode                            roi  \\\n",
       "0             3        0     n   [19, 195, 332, 513, 65, 295]   \n",
       "1             4        0     n  [19, 187, 264, 453, 226, 444]   \n",
       "2             5        0     n   [19, 190, 73, 322, 422, 613]   \n",
       "3             7        0     n   [19, 195, 355, 594, 68, 397]   \n",
       "4             1        0     n    [8, 189, 78, 297, 228, 481]   \n",
       "\n",
       "                                             src_csv  src_csv_row  str_ver  \\\n",
       "0  //allen/aics/assay-dev/StashSpreadsheets/assay...            7    0.1.0   \n",
       "1  //allen/aics/assay-dev/StashSpreadsheets/assay...            8    0.1.0   \n",
       "2  //allen/aics/assay-dev/StashSpreadsheets/assay...            9    0.1.0   \n",
       "3  //allen/aics/assay-dev/StashSpreadsheets/assay...           11    0.1.0   \n",
       "4  //allen/aics/assay-dev/StashSpreadsheets/assay...           15    0.1.0   \n",
       "\n",
       "   structure_name  \n",
       "0             FBL  \n",
       "1             FBL  \n",
       "2             FBL  \n",
       "3             FBL  \n",
       "4             FBL  \n",
       "\n",
       "[5 rows x 112 columns]"
      ]
     },
     "execution_count": 5,
     "metadata": {},
     "output_type": "execute_result"
    }
   ],
   "source": [
    "data.head()"
   ]
  },
  {
   "cell_type": "code",
   "execution_count": 6,
   "metadata": {},
   "outputs": [],
   "source": [
    "base_path = '/allen/aics/assay-dev/Analysis/QCB_database/cell_info/'"
   ]
  },
  {
   "cell_type": "code",
   "execution_count": 7,
   "metadata": {},
   "outputs": [
    {
     "data": {
      "text/plain": [
       "'c17a53d0-7ff6-4106-ab53-d2be3240f168'"
      ]
     },
     "execution_count": 7,
     "metadata": {},
     "output_type": "execute_result"
    }
   ],
   "source": [
    "cid = 0\n",
    "data['cell_id'].iloc[[cid]].values[0]"
   ]
  },
  {
   "cell_type": "code",
   "execution_count": 8,
   "metadata": {},
   "outputs": [
    {
     "data": {
      "text/plain": [
       "(5, 176, 181, 230)"
      ]
     },
     "execution_count": 8,
     "metadata": {},
     "output_type": "execute_result"
    }
   ],
   "source": [
    "cell_name = data['cell_id'].values[cid]\n",
    "img = io.imread(os.path.join(base_path,cell_name,'seg.ome.tif'))\n",
    "img.shape"
   ]
  },
  {
   "cell_type": "code",
   "execution_count": 9,
   "metadata": {},
   "outputs": [
    {
     "data": {
      "text/plain": [
       "(230, 181, 3)"
      ]
     },
     "execution_count": 9,
     "metadata": {},
     "output_type": "execute_result"
    }
   ],
   "source": [
    "img = np.max(img,axis=1)\n",
    "img = np.swapaxes(img,0,2)\n",
    "img = img[:,:,:3]\n",
    "img.shape"
   ]
  },
  {
   "cell_type": "code",
   "execution_count": 10,
   "metadata": {},
   "outputs": [],
   "source": [
    "def fixColor(img):\n",
    "    for i in [2,0,1]:\n",
    "        for j in [2,0,1]:\n",
    "            if i != j:\n",
    "                img[img[:,:,i]>0,j] = 0\n",
    "    img[np.all(img==0,axis=2),:] = 255\n",
    "    return img\n",
    "img = fixColor(img)"
   ]
  },
  {
   "cell_type": "code",
   "execution_count": 11,
   "metadata": {},
   "outputs": [
    {
     "data": {
      "text/plain": [
       "<matplotlib.image.AxesImage at 0x7f065237d588>"
      ]
     },
     "execution_count": 11,
     "metadata": {},
     "output_type": "execute_result"
    },
    {
     "data": {
      "image/png": "[encoded data removed]",
      "text/plain": [
       "<Figure size 288x288 with 1 Axes>"
      ]
     },
     "metadata": {},
     "output_type": "display_data"
    }
   ],
   "source": [
    "fig, ax = plt.subplots(figsize=(4,4))\n",
    "plt.axis('off')\n",
    "ax.imshow(img)"
   ]
  },
  {
   "cell_type": "code",
   "execution_count": 12,
   "metadata": {},
   "outputs": [
    {
     "data": {
      "text/plain": [
       "[255, dtype('uint8')]"
      ]
     },
     "execution_count": 12,
     "metadata": {},
     "output_type": "execute_result"
    }
   ],
   "source": [
    "[img.max(), img.dtype]"
   ]
  },
  {
   "cell_type": "code",
   "execution_count": 13,
   "metadata": {},
   "outputs": [
    {
     "data": {
      "text/plain": [
       "'../engine/app/static/imgs/c17a53d0-7ff6-4106-ab53-d2be3240f168.jpg'"
      ]
     },
     "execution_count": 13,
     "metadata": {},
     "output_type": "execute_result"
    }
   ],
   "source": [
    "io.imsave(os.path.join('../engine/app/static/imgs',cell_name+'.jpg'),img)\n",
    "os.path.join('../engine/app/static/imgs',cell_name+'.jpg')"
   ]
  },
  {
   "cell_type": "code",
   "execution_count": 18,
   "metadata": {},
   "outputs": [],
   "source": [
    "def getImage(cell_name):\n",
    "    img = io.imread(os.path.join(base_path,cell_name,'seg.ome.tif'))\n",
    "    img = np.max(img,axis=1)\n",
    "    img = np.swapaxes(img,0,2)\n",
    "    img = img[:,:,:3]\n",
    "    img = fixColor(img)\n",
    "    return img"
   ]
  },
  {
   "cell_type": "code",
   "execution_count": 19,
   "metadata": {},
   "outputs": [
    {
     "data": {
      "text/plain": [
       "<matplotlib.image.AxesImage at 0x7f0651cf8278>"
      ]
     },
     "execution_count": 19,
     "metadata": {},
     "output_type": "execute_result"
    },
    {
     "data": {
      "image/png": "[encoded data removed]",
      "text/plain": [
       "<Figure size 288x288 with 1 Axes>"
      ]
     },
     "metadata": {},
     "output_type": "display_data"
    }
   ],
   "source": [
    "fig, ax = plt.subplots(figsize=(4,4))\n",
    "plt.axis('off')\n",
    "ax.imshow(getImage(cell_name))"
   ]
  },
  {
   "cell_type": "code",
   "execution_count": 25,
   "metadata": {},
   "outputs": [
    {
     "data": {
      "application/vnd.jupyter.widget-view+json": {
       "model_id": "7132ac94419f4a65aa8a415ffbd3efd8",
       "version_major": 2,
       "version_minor": 0
      },
      "text/plain": [
       "FloatProgress(value=0.0, max=3839.0)"
      ]
     },
     "metadata": {},
     "output_type": "display_data"
    }
   ],
   "source": [
    "from ipywidgets import FloatProgress\n",
    "bar = FloatProgress(min=0, max=data.shape[0])\n",
    "display(bar)"
   ]
  },
  {
   "cell_type": "code",
   "execution_count": null,
   "metadata": {},
   "outputs": [],
   "source": [
    "for idx, cid in enumerate(data['cell_id'].values):\n",
    "    img = getImage(cid)\n",
    "    io.imsave(os.path.join('../engine/app/static/imgs',cid+'.jpg'),img)\n",
    "    bar.value = idx"
   ]
  },
  {
   "cell_type": "code",
   "execution_count": null,
   "metadata": {},
   "outputs": [],
   "source": []
  },
  {
   "cell_type": "code",
   "execution_count": null,
   "metadata": {},
   "outputs": [],
   "source": []
  }
 ],
 "metadata": {
  "kernelspec": {
   "display_name": "Python 3",
   "language": "python",
   "name": "python3"
  },
  "language_info": {
   "codemirror_mode": {
    "name": "ipython",
    "version": 3
   },
   "file_extension": ".py",
   "mimetype": "text/x-python",
   "name": "python",
   "nbconvert_exporter": "python",
   "pygments_lexer": "ipython3",
   "version": "3.6.5"
  }
 },
 "nbformat": 4,
 "nbformat_minor": 2
}
